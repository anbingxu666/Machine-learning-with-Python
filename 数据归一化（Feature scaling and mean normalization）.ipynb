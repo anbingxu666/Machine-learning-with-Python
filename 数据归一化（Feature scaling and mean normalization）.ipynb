{
 "cells": [
  {
   "cell_type": "markdown",
   "metadata": {},
   "source": [
    "# 数据归一化\n",
    "#### 1.最值归一化　　０－１映射　　（ｘ－ｘｍｉｎ）／（ｘｍａｘ－ｘｍｉｎ）　缺点 受outline边界值或没有明显边界时影响较大\n",
    "#### 2.均值方差归一化  将所有数据归一到均值0方差1的标准正态分本中 (x-xmean)/s"
   ]
  },
  {
   "cell_type": "markdown",
   "metadata": {},
   "source": [
    "## 随机生成一个矩阵"
   ]
  },
  {
   "cell_type": "code",
   "execution_count": 1,
   "metadata": {},
   "outputs": [
    {
     "data": {
      "text/plain": [
       "array([[ 130.,  173.],\n",
       "       [ 158.,   62.],\n",
       "       [  70.,  158.],\n",
       "       [ 164.,  189.],\n",
       "       [  91.,   51.],\n",
       "       [  60.,  156.],\n",
       "       [  14.,   63.],\n",
       "       [ 144.,   46.],\n",
       "       [  39.,   69.],\n",
       "       [ 141.,   69.],\n",
       "       [ 117.,   20.],\n",
       "       [ 139.,   24.],\n",
       "       [ 148.,   36.],\n",
       "       [ 112.,  176.],\n",
       "       [ 164.,   94.],\n",
       "       [ 174.,  122.],\n",
       "       [ 175.,   16.],\n",
       "       [  77.,  164.],\n",
       "       [  26.,    5.],\n",
       "       [  42.,  103.]])"
      ]
     },
     "execution_count": 1,
     "metadata": {},
     "output_type": "execute_result"
    }
   ],
   "source": [
    "import numpy as np\n",
    "np.random.seed(666)\n",
    "X = np.random.randint(0,201,size=(20,2))\n",
    "X = np.array(X,dtype=float) #强制类型转换\n",
    "X"
   ]
  },
  {
   "cell_type": "markdown",
   "metadata": {},
   "source": [
    "## 1 最值归一化"
   ]
  },
  {
   "cell_type": "code",
   "execution_count": 2,
   "metadata": {},
   "outputs": [],
   "source": [
    "normalization_1 = np.zeros(shape=X.shape)\n",
    "normalization_1[:,0] = ((X[:,0] - np.min(X[:,0]))/(np.max(X[:,0])-np.min(X[:,0])))\n",
    "normalization_1[:,1] = ((X[:,1] - np.min(X[:,1]))/(np.max(X[:,1])-np.min(X[:,1])))"
   ]
  },
  {
   "cell_type": "code",
   "execution_count": 3,
   "metadata": {},
   "outputs": [
    {
     "data": {
      "text/plain": [
       "array([[ 0.72049689,  0.91304348],\n",
       "       [ 0.89440994,  0.30978261],\n",
       "       [ 0.34782609,  0.83152174],\n",
       "       [ 0.93167702,  1.        ],\n",
       "       [ 0.47826087,  0.25      ],\n",
       "       [ 0.28571429,  0.82065217],\n",
       "       [ 0.        ,  0.31521739],\n",
       "       [ 0.80745342,  0.22282609],\n",
       "       [ 0.1552795 ,  0.34782609],\n",
       "       [ 0.78881988,  0.34782609],\n",
       "       [ 0.63975155,  0.08152174],\n",
       "       [ 0.77639752,  0.10326087],\n",
       "       [ 0.83229814,  0.16847826],\n",
       "       [ 0.60869565,  0.92934783],\n",
       "       [ 0.93167702,  0.48369565],\n",
       "       [ 0.99378882,  0.63586957],\n",
       "       [ 1.        ,  0.05978261],\n",
       "       [ 0.39130435,  0.86413043],\n",
       "       [ 0.07453416,  0.        ],\n",
       "       [ 0.17391304,  0.5326087 ]])"
      ]
     },
     "execution_count": 3,
     "metadata": {},
     "output_type": "execute_result"
    }
   ],
   "source": [
    "normalization_1"
   ]
  },
  {
   "cell_type": "code",
   "execution_count": 4,
   "metadata": {},
   "outputs": [],
   "source": [
    "import  matplotlib.pyplot as plt"
   ]
  },
  {
   "cell_type": "code",
   "execution_count": 5,
   "metadata": {},
   "outputs": [
    {
     "data": {
      "image/png": "[encoded data removed]",
      "text/plain": [
       "<Figure size 432x288 with 1 Axes>"
      ]
     },
     "metadata": {},
     "output_type": "display_data"
    }
   ],
   "source": [
    "plt.scatter(normalization_1[:,0],normalization_1[:,1])\n",
    "plt.show()"
   ]
  },
  {
   "cell_type": "markdown",
   "metadata": {},
   "source": [
    "### sklearn中也有MinMaxScaler"
   ]
  },
  {
   "cell_type": "code",
   "execution_count": 36,
   "metadata": {},
   "outputs": [],
   "source": [
    "from sklearn.preprocessing import MinMaxScaler\n",
    "#使用方法同4\n",
    "#1,创建Scaler 2.fit 这个Scaler 3.通过此Scaler进行transform"
   ]
  },
  {
   "cell_type": "markdown",
   "metadata": {},
   "source": [
    "## 2 均值方差归一化"
   ]
  },
  {
   "cell_type": "code",
   "execution_count": 6,
   "metadata": {},
   "outputs": [],
   "source": [
    "normalization_2 = np.zeros(shape=X.shape)\n",
    "# normalization_2[:,0] = ((X[:,0] - np.mean(X[:,0]))/np.std(X[:,0]))\n",
    "# normalization_2[:,1] = ((X[:,1] - np.mean(X[:,1]))/np.std(X[:,1]))\n",
    "std = np.std(X,axis=0)\n",
    "mean = np.mean(X,axis=0)\n",
    "normalization_2=(X-mean)/std"
   ]
  },
  {
   "cell_type": "code",
   "execution_count": 7,
   "metadata": {},
   "outputs": [
    {
     "data": {
      "image/png": "[encoded data removed]",
      "text/plain": [
       "<Figure size 432x288 with 1 Axes>"
      ]
     },
     "metadata": {},
     "output_type": "display_data"
    }
   ],
   "source": [
    "plt.scatter(normalization_2[:,0],normalization_2[:,1])\n",
    "plt.show()"
   ]
  },
  {
   "cell_type": "code",
   "execution_count": 8,
   "metadata": {},
   "outputs": [
    {
     "data": {
      "text/plain": [
       "1.0"
      ]
     },
     "execution_count": 8,
     "metadata": {},
     "output_type": "execute_result"
    }
   ],
   "source": [
    "np.std(normalization_2[:,0])"
   ]
  },
  {
   "cell_type": "code",
   "execution_count": 9,
   "metadata": {},
   "outputs": [
    {
     "data": {
      "text/plain": [
       "2.2204460492503132e-17"
      ]
     },
     "execution_count": 9,
     "metadata": {},
     "output_type": "execute_result"
    }
   ],
   "source": [
    "np.mean(normalization_2[:,0])"
   ]
  },
  {
   "cell_type": "markdown",
   "metadata": {},
   "source": [
    "均值接近0 方差接近1"
   ]
  },
  {
   "cell_type": "markdown",
   "metadata": {},
   "source": [
    "## 3.sklearn中的StandardScaler"
   ]
  },
  {
   "cell_type": "code",
   "execution_count": 22,
   "metadata": {},
   "outputs": [],
   "source": [
    "from sklearn.preprocessing import StandardScaler\n",
    "from sklearn.model_selection import train_test_split\n",
    "from sklearn.datasets import load_iris"
   ]
  },
  {
   "cell_type": "code",
   "execution_count": 30,
   "metadata": {},
   "outputs": [],
   "source": [
    "#分割数据集\n",
    "X = load_iris().data\n",
    "y = load_iris().target\n",
    "X_train,X_test,y_train,y_test = train_test_split(X,y,test_size=0.3,random_state=666)\n"
   ]
  },
  {
   "cell_type": "markdown",
   "metadata": {},
   "source": [
    "#### 创建Scaler"
   ]
  },
  {
   "cell_type": "code",
   "execution_count": 24,
   "metadata": {},
   "outputs": [
    {
     "data": {
      "text/plain": [
       "StandardScaler(copy=True, with_mean=True, with_std=True)"
      ]
     },
     "execution_count": 24,
     "metadata": {},
     "output_type": "execute_result"
    }
   ],
   "source": [
    "sS=StandardScaler()\n",
    "sS.fit(X_train)"
   ]
  },
  {
   "cell_type": "code",
   "execution_count": 25,
   "metadata": {},
   "outputs": [
    {
     "data": {
      "text/plain": [
       "array([ 5.81619048,  3.08285714,  3.67047619,  1.15619048])"
      ]
     },
     "execution_count": 25,
     "metadata": {},
     "output_type": "execute_result"
    }
   ],
   "source": [
    "sS.mean_"
   ]
  },
  {
   "cell_type": "code",
   "execution_count": 26,
   "metadata": {},
   "outputs": [
    {
     "data": {
      "text/plain": [
       "array([ 0.80747977,  0.43500567,  1.76046118,  0.75591935])"
      ]
     },
     "execution_count": 26,
     "metadata": {},
     "output_type": "execute_result"
    }
   ],
   "source": [
    "sS.scale_"
   ]
  },
  {
   "cell_type": "code",
   "execution_count": 27,
   "metadata": {},
   "outputs": [],
   "source": [
    "X_train=sS.transform(X_train)"
   ]
  },
  {
   "cell_type": "code",
   "execution_count": 16,
   "metadata": {},
   "outputs": [],
   "source": [
    "X_test_standard =sS.transform(X_test)"
   ]
  },
  {
   "cell_type": "code",
   "execution_count": 28,
   "metadata": {
    "collapsed": true
   },
   "outputs": [
    {
     "data": {
      "text/plain": [
       "array([[-0.63926119,  1.41870072, -1.23290204, -1.26493717],\n",
       "       [-1.01078752,  0.9589366 , -1.17609875, -0.73578018],\n",
       "       [-1.75384019, -0.42035577, -1.28970534, -1.26493717],\n",
       "       [-0.02005063, -0.88011989,  0.13037709,  0.05795529],\n",
       "       [-0.7631033 ,  0.72905454, -1.28970534, -1.26493717],\n",
       "       [-1.50615597,  0.72905454, -1.28970534, -1.13264792],\n",
       "       [ 0.84684415,  0.26929042,  0.81201666,  1.11626925],\n",
       "       [-0.14389274, -0.42035577,  0.30078698,  0.19024453],\n",
       "       [ 0.97068626, -0.19047371,  0.41439358,  0.32253378],\n",
       "       [ 0.2276336 , -0.42035577,  0.47119688,  0.45482302],\n",
       "       [-1.38231385,  0.26929042, -1.17609875, -1.26493717],\n",
       "       [-1.13462963,  0.03940835, -1.23290204, -1.39722641],\n",
       "       [ 1.09452838,  0.03940835,  1.09603315,  1.64542623],\n",
       "       [ 0.59915993, -0.88011989,  0.69841006,  0.85169076],\n",
       "       [ 0.35147571, -0.65023783,  0.58480347,  0.05795529],\n",
       "       [ 0.47531782, -0.65023783,  0.64160677,  0.85169076],\n",
       "       [-0.14389274,  3.02787516, -1.23290204, -1.00035867],\n",
       "       [ 0.59915993, -1.33988402,  0.69841006,  0.45482302],\n",
       "       [ 0.72300204, -0.42035577,  0.35759028,  0.19024453],\n",
       "       [-0.88694541,  1.64858279, -1.00568885, -1.00035867],\n",
       "       [ 1.21837049, -0.65023783,  0.64160677,  0.32253378],\n",
       "       [-0.88694541,  0.9589366 , -1.28970534, -1.13264792],\n",
       "       [-1.8776823 , -0.19047371, -1.46011523, -1.39722641],\n",
       "       [ 0.10379148, -0.19047371,  0.81201666,  0.85169076],\n",
       "       [ 0.72300204, -0.65023783,  1.09603315,  1.2485585 ],\n",
       "       [-0.26773485, -0.65023783,  0.69841006,  1.11626925],\n",
       "       [-0.39157696, -1.56976608,  0.0167705 , -0.2066232 ],\n",
       "       [ 1.3422126 ,  0.03940835,  0.69841006,  0.45482302],\n",
       "       [ 0.59915993,  0.72905454,  1.09603315,  1.64542623],\n",
       "       [ 0.84684415, -0.19047371,  1.20963974,  1.38084774],\n",
       "       [-0.14389274,  1.64858279, -1.11929545, -1.13264792],\n",
       "       [ 0.97068626, -0.42035577,  0.52800017,  0.19024453],\n",
       "       [ 1.09452838,  0.49917248,  1.15283644,  1.77771548],\n",
       "       [-1.25847174, -0.19047371, -1.28970534, -1.39722641],\n",
       "       [-1.01078752,  1.18881866, -1.28970534, -1.26493717],\n",
       "       [ 0.2276336 , -0.19047371,  0.64160677,  0.85169076],\n",
       "       [-1.01078752, -0.19047371, -1.17609875, -1.26493717],\n",
       "       [ 0.35147571, -0.19047371,  0.69841006,  0.85169076],\n",
       "       [ 0.72300204,  0.03940835,  1.03922985,  0.85169076],\n",
       "       [-0.88694541,  1.41870072, -1.23290204, -1.00035867],\n",
       "       [-0.14389274, -0.19047371,  0.30078698,  0.05795529],\n",
       "       [-1.01078752,  0.9589366 , -1.34650864, -1.13264792],\n",
       "       [-0.88694541,  1.64858279, -1.23290204, -1.13264792],\n",
       "       [-1.50615597,  0.26929042, -1.28970534, -1.26493717],\n",
       "       [-0.51541907, -0.19047371,  0.47119688,  0.45482302],\n",
       "       [ 0.84684415, -0.65023783,  0.52800017,  0.45482302],\n",
       "       [ 0.35147571, -0.65023783,  0.18718039,  0.19024453],\n",
       "       [-1.25847174,  0.72905454, -1.17609875, -1.26493717],\n",
       "       [-0.88694541,  0.49917248, -1.11929545, -0.86806943],\n",
       "       [-0.02005063, -0.88011989,  0.81201666,  0.98398001],\n",
       "       [-0.26773485, -0.19047371,  0.24398369,  0.19024453],\n",
       "       [ 0.59915993, -0.65023783,  0.81201666,  0.45482302],\n",
       "       [ 1.09452838,  0.49917248,  1.15283644,  1.2485585 ],\n",
       "       [ 1.71373893, -0.19047371,  1.20963974,  0.58711227],\n",
       "       [ 1.09452838, -0.19047371,  0.86881996,  1.51313699],\n",
       "       [-1.13462963,  0.03940835, -1.23290204, -1.39722641],\n",
       "       [-1.13462963, -1.33988402,  0.47119688,  0.71940152],\n",
       "       [-0.14389274, -1.33988402,  0.75521336,  1.11626925],\n",
       "       [-1.13462963, -1.56976608, -0.21044269, -0.2066232 ],\n",
       "       [-0.39157696, -1.56976608,  0.07357379, -0.07433396],\n",
       "       [ 1.09452838, -1.33988402,  1.20963974,  0.85169076],\n",
       "       [ 0.84684415, -0.19047371,  1.03922985,  0.85169076],\n",
       "       [-0.14389274, -1.11000195, -0.0968361 , -0.2066232 ],\n",
       "       [ 0.2276336 , -2.0295302 ,  0.75521336,  0.45482302],\n",
       "       [ 1.09452838,  0.03940835,  0.58480347,  0.45482302],\n",
       "       [-1.13462963,  0.03940835, -1.23290204, -1.39722641],\n",
       "       [ 0.59915993, -1.33988402,  0.75521336,  0.98398001],\n",
       "       [-1.38231385,  0.26929042, -1.34650864, -1.26493717],\n",
       "       [ 0.2276336 , -0.88011989,  0.81201666,  0.58711227],\n",
       "       [-0.02005063, -1.11000195,  0.18718039,  0.05795529],\n",
       "       [ 1.3422126 ,  0.26929042,  1.15283644,  1.51313699],\n",
       "       [-1.75384019, -0.19047371, -1.34650864, -1.26493717],\n",
       "       [ 1.58989682, -0.19047371,  1.26644304,  1.2485585 ],\n",
       "       [ 1.21837049,  0.26929042,  1.26644304,  1.51313699],\n",
       "       [-0.7631033 ,  0.9589366 , -1.23290204, -1.26493717],\n",
       "       [ 2.58063371,  1.64858279,  1.55045952,  1.11626925],\n",
       "       [ 0.72300204, -0.65023783,  1.09603315,  1.38084774],\n",
       "       [-0.26773485, -0.42035577, -0.0400328 ,  0.19024453],\n",
       "       [-0.39157696,  2.56811103, -1.28970534, -1.26493717],\n",
       "       [-1.25847174, -0.19047371, -1.28970534, -1.13264792],\n",
       "       [ 0.59915993, -0.42035577,  1.09603315,  0.85169076],\n",
       "       [-1.75384019,  0.26929042, -1.34650864, -1.26493717],\n",
       "       [-0.51541907,  1.87846485, -1.11929545, -1.00035867],\n",
       "       [-1.01078752,  0.72905454, -1.17609875, -1.00035867],\n",
       "       [ 1.09452838, -0.19047371,  0.75521336,  0.71940152],\n",
       "       [-0.51541907,  1.87846485, -1.34650864, -1.00035867],\n",
       "       [ 2.33294949, -0.65023783,  1.72086942,  1.11626925],\n",
       "       [-0.26773485, -0.88011989,  0.30078698,  0.19024453],\n",
       "       [ 1.21837049, -0.19047371,  1.03922985,  1.2485585 ],\n",
       "       [-0.39157696,  0.9589366 , -1.34650864, -1.26493717],\n",
       "       [-1.25847174,  0.72905454, -1.00568885, -1.26493717],\n",
       "       [-0.51541907,  0.72905454, -1.11929545, -1.26493717],\n",
       "       [ 2.33294949,  1.64858279,  1.72086942,  1.38084774],\n",
       "       [ 1.3422126 ,  0.03940835,  0.98242655,  1.2485585 ],\n",
       "       [-0.26773485, -1.33988402,  0.13037709, -0.07433396],\n",
       "       [-0.88694541,  0.72905454, -1.23290204, -1.26493717],\n",
       "       [-0.88694541,  1.64858279, -1.17609875, -1.26493717],\n",
       "       [ 0.35147571, -0.42035577,  0.58480347,  0.32253378],\n",
       "       [-0.02005063,  2.10834691, -1.40331193, -1.26493717],\n",
       "       [-1.01078752, -2.48929432, -0.0968361 , -0.2066232 ],\n",
       "       [ 0.72300204,  0.26929042,  0.47119688,  0.45482302],\n",
       "       [ 0.35147571, -0.19047371,  0.52800017,  0.32253378],\n",
       "       [ 0.10379148,  0.26929042,  0.64160677,  0.85169076],\n",
       "       [ 0.2276336 , -2.0295302 ,  0.18718039, -0.2066232 ],\n",
       "       [ 1.96142316, -0.65023783,  1.38004963,  0.98398001]])"
      ]
     },
     "execution_count": 28,
     "metadata": {},
     "output_type": "execute_result"
    }
   ],
   "source": [
    "X_train"
   ]
  },
  {
   "cell_type": "markdown",
   "metadata": {},
   "source": [
    "## 4.自己实现的StandardScaler"
   ]
  },
  {
   "cell_type": "code",
   "execution_count": 31,
   "metadata": {},
   "outputs": [],
   "source": [
    "from my_preprocessing import my_StandardScaler\n",
    "X = load_iris().data\n",
    "y = load_iris().target\n",
    "X_train,X_test,y_train,y_test = train_test_split(X,y,test_size=0.3,random_state=666)\n",
    "sS=StandardScaler()"
   ]
  },
  {
   "cell_type": "code",
   "execution_count": 32,
   "metadata": {},
   "outputs": [],
   "source": [
    "msS = my_StandardScaler()"
   ]
  },
  {
   "cell_type": "code",
   "execution_count": 33,
   "metadata": {},
   "outputs": [
    {
     "data": {
      "text/plain": [
       "<my_preprocessing.my_StandardScaler at 0x192978b6278>"
      ]
     },
     "execution_count": 33,
     "metadata": {},
     "output_type": "execute_result"
    }
   ],
   "source": [
    "msS.fit(X_train)"
   ]
  },
  {
   "cell_type": "code",
   "execution_count": 35,
   "metadata": {},
   "outputs": [
    {
     "data": {
      "text/plain": [
       "array([ 5.81619048,  3.08285714,  3.67047619,  1.15619048])"
      ]
     },
     "execution_count": 35,
     "metadata": {},
     "output_type": "execute_result"
    }
   ],
   "source": [
    "msS.mean_"
   ]
  },
  {
   "cell_type": "code",
   "execution_count": 34,
   "metadata": {},
   "outputs": [
    {
     "data": {
      "text/plain": [
       "array([ 0.80747977,  0.43500567,  1.76046118,  0.75591935])"
      ]
     },
     "execution_count": 34,
     "metadata": {},
     "output_type": "execute_result"
    }
   ],
   "source": [
    "msS.scale_"
   ]
  },
  {
   "cell_type": "code",
   "execution_count": 20,
   "metadata": {
    "collapsed": true
   },
   "outputs": [
    {
     "data": {
      "text/plain": [
       "array([[-0.63926119,  1.41870072, -1.23290204, -1.26493717],\n",
       "       [-1.01078752,  0.9589366 , -1.17609875, -0.73578018],\n",
       "       [-1.75384019, -0.42035577, -1.28970534, -1.26493717],\n",
       "       [-0.02005063, -0.88011989,  0.13037709,  0.05795529],\n",
       "       [-0.7631033 ,  0.72905454, -1.28970534, -1.26493717],\n",
       "       [-1.50615597,  0.72905454, -1.28970534, -1.13264792],\n",
       "       [ 0.84684415,  0.26929042,  0.81201666,  1.11626925],\n",
       "       [-0.14389274, -0.42035577,  0.30078698,  0.19024453],\n",
       "       [ 0.97068626, -0.19047371,  0.41439358,  0.32253378],\n",
       "       [ 0.2276336 , -0.42035577,  0.47119688,  0.45482302],\n",
       "       [-1.38231385,  0.26929042, -1.17609875, -1.26493717],\n",
       "       [-1.13462963,  0.03940835, -1.23290204, -1.39722641],\n",
       "       [ 1.09452838,  0.03940835,  1.09603315,  1.64542623],\n",
       "       [ 0.59915993, -0.88011989,  0.69841006,  0.85169076],\n",
       "       [ 0.35147571, -0.65023783,  0.58480347,  0.05795529],\n",
       "       [ 0.47531782, -0.65023783,  0.64160677,  0.85169076],\n",
       "       [-0.14389274,  3.02787516, -1.23290204, -1.00035867],\n",
       "       [ 0.59915993, -1.33988402,  0.69841006,  0.45482302],\n",
       "       [ 0.72300204, -0.42035577,  0.35759028,  0.19024453],\n",
       "       [-0.88694541,  1.64858279, -1.00568885, -1.00035867],\n",
       "       [ 1.21837049, -0.65023783,  0.64160677,  0.32253378],\n",
       "       [-0.88694541,  0.9589366 , -1.28970534, -1.13264792],\n",
       "       [-1.8776823 , -0.19047371, -1.46011523, -1.39722641],\n",
       "       [ 0.10379148, -0.19047371,  0.81201666,  0.85169076],\n",
       "       [ 0.72300204, -0.65023783,  1.09603315,  1.2485585 ],\n",
       "       [-0.26773485, -0.65023783,  0.69841006,  1.11626925],\n",
       "       [-0.39157696, -1.56976608,  0.0167705 , -0.2066232 ],\n",
       "       [ 1.3422126 ,  0.03940835,  0.69841006,  0.45482302],\n",
       "       [ 0.59915993,  0.72905454,  1.09603315,  1.64542623],\n",
       "       [ 0.84684415, -0.19047371,  1.20963974,  1.38084774],\n",
       "       [-0.14389274,  1.64858279, -1.11929545, -1.13264792],\n",
       "       [ 0.97068626, -0.42035577,  0.52800017,  0.19024453],\n",
       "       [ 1.09452838,  0.49917248,  1.15283644,  1.77771548],\n",
       "       [-1.25847174, -0.19047371, -1.28970534, -1.39722641],\n",
       "       [-1.01078752,  1.18881866, -1.28970534, -1.26493717],\n",
       "       [ 0.2276336 , -0.19047371,  0.64160677,  0.85169076],\n",
       "       [-1.01078752, -0.19047371, -1.17609875, -1.26493717],\n",
       "       [ 0.35147571, -0.19047371,  0.69841006,  0.85169076],\n",
       "       [ 0.72300204,  0.03940835,  1.03922985,  0.85169076],\n",
       "       [-0.88694541,  1.41870072, -1.23290204, -1.00035867],\n",
       "       [-0.14389274, -0.19047371,  0.30078698,  0.05795529],\n",
       "       [-1.01078752,  0.9589366 , -1.34650864, -1.13264792],\n",
       "       [-0.88694541,  1.64858279, -1.23290204, -1.13264792],\n",
       "       [-1.50615597,  0.26929042, -1.28970534, -1.26493717],\n",
       "       [-0.51541907, -0.19047371,  0.47119688,  0.45482302],\n",
       "       [ 0.84684415, -0.65023783,  0.52800017,  0.45482302],\n",
       "       [ 0.35147571, -0.65023783,  0.18718039,  0.19024453],\n",
       "       [-1.25847174,  0.72905454, -1.17609875, -1.26493717],\n",
       "       [-0.88694541,  0.49917248, -1.11929545, -0.86806943],\n",
       "       [-0.02005063, -0.88011989,  0.81201666,  0.98398001],\n",
       "       [-0.26773485, -0.19047371,  0.24398369,  0.19024453],\n",
       "       [ 0.59915993, -0.65023783,  0.81201666,  0.45482302],\n",
       "       [ 1.09452838,  0.49917248,  1.15283644,  1.2485585 ],\n",
       "       [ 1.71373893, -0.19047371,  1.20963974,  0.58711227],\n",
       "       [ 1.09452838, -0.19047371,  0.86881996,  1.51313699],\n",
       "       [-1.13462963,  0.03940835, -1.23290204, -1.39722641],\n",
       "       [-1.13462963, -1.33988402,  0.47119688,  0.71940152],\n",
       "       [-0.14389274, -1.33988402,  0.75521336,  1.11626925],\n",
       "       [-1.13462963, -1.56976608, -0.21044269, -0.2066232 ],\n",
       "       [-0.39157696, -1.56976608,  0.07357379, -0.07433396],\n",
       "       [ 1.09452838, -1.33988402,  1.20963974,  0.85169076],\n",
       "       [ 0.84684415, -0.19047371,  1.03922985,  0.85169076],\n",
       "       [-0.14389274, -1.11000195, -0.0968361 , -0.2066232 ],\n",
       "       [ 0.2276336 , -2.0295302 ,  0.75521336,  0.45482302],\n",
       "       [ 1.09452838,  0.03940835,  0.58480347,  0.45482302],\n",
       "       [-1.13462963,  0.03940835, -1.23290204, -1.39722641],\n",
       "       [ 0.59915993, -1.33988402,  0.75521336,  0.98398001],\n",
       "       [-1.38231385,  0.26929042, -1.34650864, -1.26493717],\n",
       "       [ 0.2276336 , -0.88011989,  0.81201666,  0.58711227],\n",
       "       [-0.02005063, -1.11000195,  0.18718039,  0.05795529],\n",
       "       [ 1.3422126 ,  0.26929042,  1.15283644,  1.51313699],\n",
       "       [-1.75384019, -0.19047371, -1.34650864, -1.26493717],\n",
       "       [ 1.58989682, -0.19047371,  1.26644304,  1.2485585 ],\n",
       "       [ 1.21837049,  0.26929042,  1.26644304,  1.51313699],\n",
       "       [-0.7631033 ,  0.9589366 , -1.23290204, -1.26493717],\n",
       "       [ 2.58063371,  1.64858279,  1.55045952,  1.11626925],\n",
       "       [ 0.72300204, -0.65023783,  1.09603315,  1.38084774],\n",
       "       [-0.26773485, -0.42035577, -0.0400328 ,  0.19024453],\n",
       "       [-0.39157696,  2.56811103, -1.28970534, -1.26493717],\n",
       "       [-1.25847174, -0.19047371, -1.28970534, -1.13264792],\n",
       "       [ 0.59915993, -0.42035577,  1.09603315,  0.85169076],\n",
       "       [-1.75384019,  0.26929042, -1.34650864, -1.26493717],\n",
       "       [-0.51541907,  1.87846485, -1.11929545, -1.00035867],\n",
       "       [-1.01078752,  0.72905454, -1.17609875, -1.00035867],\n",
       "       [ 1.09452838, -0.19047371,  0.75521336,  0.71940152],\n",
       "       [-0.51541907,  1.87846485, -1.34650864, -1.00035867],\n",
       "       [ 2.33294949, -0.65023783,  1.72086942,  1.11626925],\n",
       "       [-0.26773485, -0.88011989,  0.30078698,  0.19024453],\n",
       "       [ 1.21837049, -0.19047371,  1.03922985,  1.2485585 ],\n",
       "       [-0.39157696,  0.9589366 , -1.34650864, -1.26493717],\n",
       "       [-1.25847174,  0.72905454, -1.00568885, -1.26493717],\n",
       "       [-0.51541907,  0.72905454, -1.11929545, -1.26493717],\n",
       "       [ 2.33294949,  1.64858279,  1.72086942,  1.38084774],\n",
       "       [ 1.3422126 ,  0.03940835,  0.98242655,  1.2485585 ],\n",
       "       [-0.26773485, -1.33988402,  0.13037709, -0.07433396],\n",
       "       [-0.88694541,  0.72905454, -1.23290204, -1.26493717],\n",
       "       [-0.88694541,  1.64858279, -1.17609875, -1.26493717],\n",
       "       [ 0.35147571, -0.42035577,  0.58480347,  0.32253378],\n",
       "       [-0.02005063,  2.10834691, -1.40331193, -1.26493717],\n",
       "       [-1.01078752, -2.48929432, -0.0968361 , -0.2066232 ],\n",
       "       [ 0.72300204,  0.26929042,  0.47119688,  0.45482302],\n",
       "       [ 0.35147571, -0.19047371,  0.52800017,  0.32253378],\n",
       "       [ 0.10379148,  0.26929042,  0.64160677,  0.85169076],\n",
       "       [ 0.2276336 , -2.0295302 ,  0.18718039, -0.2066232 ],\n",
       "       [ 1.96142316, -0.65023783,  1.38004963,  0.98398001]])"
      ]
     },
     "execution_count": 20,
     "metadata": {},
     "output_type": "execute_result"
    }
   ],
   "source": [
    "msS.transform(X_train)"
   ]
  },
  {
   "cell_type": "code",
   "execution_count": null,
   "metadata": {},
   "outputs": [],
   "source": []
  }
 ],
 "metadata": {
  "kernelspec": {
   "display_name": "Python 3",
   "language": "python",
   "name": "python3"
  },
  "language_info": {
   "codemirror_mode": {
    "name": "ipython",
    "version": 3
   },
   "file_extension": ".py",
   "mimetype": "text/x-python",
   "name": "python",
   "nbconvert_exporter": "python",
   "pygments_lexer": "ipython3",
   "version": "3.6.3"
  }
 },
 "nbformat": 4,
 "nbformat_minor": 2
}
