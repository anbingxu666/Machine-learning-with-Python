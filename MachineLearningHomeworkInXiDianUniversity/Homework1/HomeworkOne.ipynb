{
 "cells": [
  {
   "cell_type": "code",
   "execution_count": 1,
   "metadata": {},
   "outputs": [],
   "source": [
    "import numpy as np\n",
    "import matplotlib.pyplot as plt"
   ]
  },
  {
   "cell_type": "markdown",
   "metadata": {},
   "source": [
    "#### 西瓜书的数据集\n",
    "编号,色泽,根蒂,敲声,纹理,脐部,触感,密度,含糖率,好瓜  \n",
    "1,青绿,蜷缩,浊响,清晰,凹陷,硬滑,0.697,0.46,是  \n",
    "2,乌黑,蜷缩,沉闷,清晰,凹陷,硬滑,0.774,0.376,是  \n",
    "3,乌黑,蜷缩,浊响,清晰,凹陷,硬滑,0.634,0.264,是  \n",
    "4,青绿,蜷缩,沉闷,清晰,凹陷,硬滑,0.608,0.318,是  \n",
    "5,浅白,蜷缩,浊响,清晰,凹陷,硬滑,0.556,0.215,是  \n",
    "6,青绿,稍蜷,浊响,清晰,稍凹,软粘,0.403,0.237,是  \n",
    "7,乌黑,稍蜷,浊响,稍糊,稍凹,软粘,0.481,0.149,是  \n",
    "8,乌黑,稍蜷,浊响,清晰,稍凹,硬滑,0.437,0.211,是  \n",
    "9,乌黑,稍蜷,沉闷,稍糊,稍凹,硬滑,0.666,0.091,否  \n",
    "10,青绿,硬挺,清脆,清晰,平坦,软粘,0.243,0.267,否  \n",
    "11,浅白,硬挺,清脆,模糊,平坦,硬滑,0.245,0.057,否  \n",
    "12,浅白,蜷缩,浊响,模糊,平坦,软粘,0.343,0.099,否  \n",
    "13,青绿,稍蜷,浊响,稍糊,凹陷,硬滑,0.639,0.161,否  \n",
    "14,浅白,稍蜷,沉闷,稍糊,凹陷,硬滑,0.657,0.198,否  \n",
    "15,乌黑,稍蜷,浊响,清晰,稍凹,软粘,0.36,0.37,否  \n",
    "16,浅白,蜷缩,浊响,模糊,平坦,硬滑,0.593,0.042,否  \n",
    "17,青绿,蜷缩,沉闷,稍糊,稍凹,硬滑,0.719,0.103,否"
   ]
  },
  {
   "cell_type": "code",
   "execution_count": 2,
   "metadata": {},
   "outputs": [],
   "source": [
    "data = np.array([\n",
    "[1 ,  1 ,  1,   1,   1 ,  1 ,  1,   0.697 ,  0.46 ,   1],\n",
    "[2 ,  2 ,  1,   2,   1 ,  1 ,  1,   0.774 ,  0.376,   1],\n",
    "[3 ,  2 ,  1,   1,   1 ,  1 ,  1,   0.634 ,  0.264,   1],\n",
    "[4 ,  1 ,  1,   2,   1 ,  1 ,  1,   0.608 ,  0.318,   1],\n",
    "[5 ,  3 ,  1,   1,   1 ,  1 ,  1,   0.556 ,  0.215,   1],\n",
    "[6 ,  1 ,  2,   1,   1 ,  2 ,  2,   0.403 ,  0.237,   1],\n",
    "[7 ,  2 ,  2,   1,   2 ,  2 ,  2,   0.481 ,  0.149,   1],\n",
    "[8 ,  2 ,  2,   1,   1 ,  2 ,  1,   0.437 ,  0.211,   1],\n",
    "[9 ,  2 ,  2,   2,   2 ,  2 ,  1,   0.666 ,  0.091,   0],\n",
    "[10,  1 ,  3,   3,   1 ,  3 ,  2,   0.243 ,  0.267,   0],\n",
    "[11,  3 ,  3,   3,   3 ,  3 ,  1,   0.245 ,  0.057,   0],\n",
    "[12 , 3  , 1 ,  1 ,  3  , 3  , 2 ,  0.343 , 0.099 ,  0],\n",
    "[13 , 1  , 2 ,  1 ,  2  , 1  , 1 ,  0.639 , 0.161 ,  0],\n",
    "[14 , 3  , 2 ,  2 ,  2  , 1  , 1 ,  0.657 , 0.198 ,  0],\n",
    "[15 , 2  , 2 ,  1 ,  1  , 2  , 2 ,  0.36, 0.37  ,  0],\n",
    "[16 , 3  , 1 ,  1 ,  3  , 3  , 1 ,  0.593  , 0.042 ,  0],\n",
    "[17 , 1  , 1 ,  2 ,  2  , 2  , 1 ,  0.719  , 0.103 ,  0]\n",
    "])"
   ]
  },
  {
   "cell_type": "markdown",
   "metadata": {},
   "source": [
    "### 数据较少 而且主要是为了理解梯度下降算法故不进行样本集划分了"
   ]
  },
  {
   "cell_type": "code",
   "execution_count": 3,
   "metadata": {},
   "outputs": [],
   "source": [
    "X_train = data[:,1:-1]\n",
    "y_train = data[:,-1]"
   ]
  },
  {
   "cell_type": "markdown",
   "metadata": {},
   "source": [
    "### 定义损失函数"
   ]
  },
  {
   "cell_type": "code",
   "execution_count": 4,
   "metadata": {},
   "outputs": [],
   "source": [
    "def J(theta, X_b, y):\n",
    "    try:\n",
    "        return np.sum((y - X_b.dot(theta)) ** 2) / len(y)\n",
    "    except:\n",
    "        return float('inf')"
   ]
  },
  {
   "cell_type": "markdown",
   "metadata": {},
   "source": [
    "### 损失函数的导数"
   ]
  },
  {
   "cell_type": "code",
   "execution_count": 5,
   "metadata": {},
   "outputs": [],
   "source": [
    "def dJ(theta, X_b, y):\n",
    "    return X_b.T.dot(X_b.dot(theta) - y) * 2. / len(y)"
   ]
  },
  {
   "cell_type": "markdown",
   "metadata": {},
   "source": [
    "### 梯度下降算法"
   ]
  },
  {
   "cell_type": "code",
   "execution_count": 6,
   "metadata": {},
   "outputs": [],
   "source": [
    "def gradient_descent(X_b, y, initial_theta, eta, n_iters=1e4, epsilon=1e-8):\n",
    "    #X_b为增广矩阵  第一列全是一  y = theta *X_b\n",
    "    theta = initial_theta\n",
    "    cur_iter = 0\n",
    "    list_iter = []\n",
    "    list_x_100 =[]\n",
    "    while cur_iter < n_iters:\n",
    "        if cur_iter%100==0:\n",
    "            list_iter.append(J(theta, X_b, y))\n",
    "            list_x_100.append(cur_iter)\n",
    "        gradient = dJ(theta, X_b, y)\n",
    "        last_theta = theta\n",
    "        theta = theta - eta * gradient\n",
    "        if (abs(J(theta, X_b, y) - J(last_theta, X_b, y)) < epsilon):\n",
    "            break\n",
    "        cur_iter += 1\n",
    "    #绘制loss曲线\n",
    "    plt.plot(list_x_100,list_iter)\n",
    "    plt.show()\n",
    "    return theta"
   ]
  },
  {
   "cell_type": "code",
   "execution_count": 7,
   "metadata": {},
   "outputs": [
    {
     "data": {
      "image/png": "[encoded data removed]",
      "text/plain": [
       "<Figure size 432x288 with 1 Axes>"
      ]
     },
     "metadata": {},
     "output_type": "display_data"
    }
   ],
   "source": [
    "# 将X矩阵的增加一列全是一的同维度矩阵 这样方便算法的向量化\n",
    "X_b = np.hstack([np.ones((len(X_train), 1)), X_train])\n",
    "# 将theta全都初始化为theta进行梯度下降\n",
    "initial_theta = np.zeros(X_b.shape[1])\n",
    "# eta代表学习速率  n_iters 代表最大迭代次数       eta过大 会导致发散！！！ \n",
    "\n",
    "final_theta = gradient_descent(X_b, y_train, initial_theta=initial_theta, eta=0.01,n_iters=10000)"
   ]
  },
  {
   "cell_type": "markdown",
   "metadata": {},
   "source": [
    "### final即为通过梯度下降法 得到的最小化代价函数 "
   ]
  },
  {
   "cell_type": "code",
   "execution_count": 8,
   "metadata": {},
   "outputs": [
    {
     "data": {
      "text/plain": [
       "array([ 1.35505478,  0.08438326, -0.11347241, -0.13071161, -0.40394935,\n",
       "       -0.02188142, -0.02455957,  0.0790359 ,  0.14406908])"
      ]
     },
     "execution_count": 8,
     "metadata": {},
     "output_type": "execute_result"
    }
   ],
   "source": [
    "final_theta"
   ]
  },
  {
   "cell_type": "code",
   "execution_count": 9,
   "metadata": {},
   "outputs": [],
   "source": [
    "w = final_theta[1:]"
   ]
  },
  {
   "cell_type": "code",
   "execution_count": 10,
   "metadata": {},
   "outputs": [],
   "source": [
    "b = final_theta[:1]"
   ]
  },
  {
   "cell_type": "code",
   "execution_count": 11,
   "metadata": {},
   "outputs": [
    {
     "data": {
      "text/plain": [
       "array([ 0.08438326, -0.11347241, -0.13071161, -0.40394935, -0.02188142,\n",
       "       -0.02455957,  0.0790359 ,  0.14406908])"
      ]
     },
     "execution_count": 11,
     "metadata": {},
     "output_type": "execute_result"
    }
   ],
   "source": [
    "w"
   ]
  },
  {
   "cell_type": "code",
   "execution_count": 12,
   "metadata": {},
   "outputs": [
    {
     "data": {
      "text/plain": [
       "array([ 1.35505478])"
      ]
     },
     "execution_count": 12,
     "metadata": {},
     "output_type": "execute_result"
    }
   ],
   "source": [
    "b"
   ]
  },
  {
   "cell_type": "code",
   "execution_count": null,
   "metadata": {},
   "outputs": [],
   "source": []
  },
  {
   "cell_type": "code",
   "execution_count": null,
   "metadata": {},
   "outputs": [],
   "source": []
  }
 ],
 "metadata": {
  "kernelspec": {
   "display_name": "Python 3",
   "language": "python",
   "name": "python3"
  },
  "language_info": {
   "codemirror_mode": {
    "name": "ipython",
    "version": 3
   },
   "file_extension": ".py",
   "mimetype": "text/x-python",
   "name": "python",
   "nbconvert_exporter": "python",
   "pygments_lexer": "ipython3",
   "version": "3.6.3"
  }
 },
 "nbformat": 4,
 "nbformat_minor": 2
}
