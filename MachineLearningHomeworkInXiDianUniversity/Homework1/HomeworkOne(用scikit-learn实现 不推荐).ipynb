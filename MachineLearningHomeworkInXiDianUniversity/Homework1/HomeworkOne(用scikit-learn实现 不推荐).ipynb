{
 "cells": [
  {
   "cell_type": "code",
   "execution_count": 1,
   "metadata": {},
   "outputs": [],
   "source": [
    "import numpy as np"
   ]
  },
  {
   "cell_type": "markdown",
   "metadata": {},
   "source": [
    "### 加载数据"
   ]
  },
  {
   "cell_type": "code",
   "execution_count": 2,
   "metadata": {},
   "outputs": [],
   "source": [
    "data = np.array([\n",
    "[1 ,  1 ,  1,   1,   1 ,  1 ,  1,   0.697 ,  0.46 ,   1],\n",
    "[2 ,  2 ,  1,   2,   1 ,  1 ,  1,   0.774 ,  0.376,   1],\n",
    "[3 ,  2 ,  1,   1,   1 ,  1 ,  1,   0.634 ,  0.264,   1],\n",
    "[4 ,  1 ,  1,   2,   1 ,  1 ,  1,   0.608 ,  0.318,   1],\n",
    "[5 ,  3 ,  1,   1,   1 ,  1 ,  1,   0.556 ,  0.215,   1],\n",
    "[6 ,  1 ,  2,   1,   1 ,  2 ,  2,   0.403 ,  0.237,   1],\n",
    "[7 ,  2 ,  2,   1,   2 ,  2 ,  2,   0.481 ,  0.149,   1],\n",
    "[8 ,  2 ,  2,   1,   1 ,  2 ,  1,   0.437 ,  0.211,   1],\n",
    "[9 ,  2 ,  2,   2,   2 ,  2 ,  1,   0.666 ,  0.091,   0],\n",
    "[10,  1 ,  3,   3,   1 ,  3 ,  2,   0.243 ,  0.267,   0],\n",
    "[11,  3 ,  3,   3,   3 ,  3 ,  1,   0.245 ,  0.057,   0],\n",
    "[12 , 3  , 1 ,  1 ,  3  , 3  , 2 ,  0.343 , 0.099 ,  0],\n",
    "[13 , 1  , 2 ,  1 ,  2  , 1  , 1 ,  0.639 , 0.161 ,  0],\n",
    "[14 , 3  , 2 ,  2 ,  2  , 1  , 1 ,  0.657 , 0.198 ,  0],\n",
    "[15 , 2  , 2 ,  1 ,  1  , 2  , 2 ,  0.36, 0.37  ,  0],\n",
    "[16 , 3  , 1 ,  1 ,  3  , 3  , 1 ,  0.593  , 0.042 ,  0],\n",
    "[17 , 1  , 1 ,  2 ,  2  , 2  , 1 ,  0.719  , 0.103 ,  0]\n",
    "])"
   ]
  },
  {
   "cell_type": "markdown",
   "metadata": {},
   "source": [
    "### 数据预处理"
   ]
  },
  {
   "cell_type": "code",
   "execution_count": 10,
   "metadata": {},
   "outputs": [],
   "source": [
    "X = data[:,1:-1]"
   ]
  },
  {
   "cell_type": "code",
   "execution_count": 19,
   "metadata": {},
   "outputs": [],
   "source": [
    "y = data[:,-1]"
   ]
  },
  {
   "cell_type": "markdown",
   "metadata": {},
   "source": [
    "### 使用sklearn训练模型"
   ]
  },
  {
   "cell_type": "code",
   "execution_count": 71,
   "metadata": {},
   "outputs": [],
   "source": [
    "\n",
    "from sklearn.model_selection import train_test_split\n",
    "from sklearn.preprocessing import PolynomialFeatures\n",
    "from sklearn.preprocessing import StandardScaler\n",
    "from sklearn.pipeline import Pipeline"
   ]
  },
  {
   "cell_type": "markdown",
   "metadata": {},
   "source": [
    "#### 测试集和训练集划分"
   ]
  },
  {
   "cell_type": "code",
   "execution_count": 35,
   "metadata": {},
   "outputs": [],
   "source": [
    "X_train,X_test,y_train,y_test = train_test_split(X,y,random_state = 6,test_size = 0.3)"
   ]
  },
  {
   "cell_type": "code",
   "execution_count": 63,
   "metadata": {},
   "outputs": [],
   "source": [
    "def getLogisticRegression(degree=2):\n",
    "    return Pipeline([\n",
    "        (\"poly\",PolynomialFeatures(degree=degree)),\n",
    "        (\"stand\",StandardScaler()),\n",
    "        (\"lr\",LogisticRegression())\n",
    "    ])"
   ]
  },
  {
   "cell_type": "code",
   "execution_count": 64,
   "metadata": {},
   "outputs": [],
   "source": [
    "lr = getLogisticRegression()"
   ]
  },
  {
   "cell_type": "code",
   "execution_count": 65,
   "metadata": {},
   "outputs": [
    {
     "data": {
      "text/plain": [
       "Pipeline(memory=None,\n",
       "     steps=[('poly', PolynomialFeatures(degree=2, include_bias=True, interaction_only=False)), ('stand', StandardScaler(copy=True, with_mean=True, with_std=True)), ('lr', LogisticRegression(C=1.0, class_weight=None, dual=False, fit_intercept=True,\n",
       "          intercept_scaling=1, max_iter=100, multi_class='ovr', n_jobs=1,\n",
       "          penalty='l2', random_state=None, solver='liblinear', tol=0.0001,\n",
       "          verbose=0, warm_start=False))])"
      ]
     },
     "execution_count": 65,
     "metadata": {},
     "output_type": "execute_result"
    }
   ],
   "source": [
    "lr.fit(X_train,y_train)"
   ]
  },
  {
   "cell_type": "markdown",
   "metadata": {},
   "source": [
    "#### 测试集表现 采用accuracy_score"
   ]
  },
  {
   "cell_type": "code",
   "execution_count": 66,
   "metadata": {},
   "outputs": [
    {
     "data": {
      "text/plain": [
       "0.83333333333333337"
      ]
     },
     "execution_count": 66,
     "metadata": {},
     "output_type": "execute_result"
    }
   ],
   "source": [
    "lr.score(X_test,y_test)"
   ]
  },
  {
   "cell_type": "code",
   "execution_count": 68,
   "metadata": {},
   "outputs": [
    {
     "data": {
      "text/plain": [
       "1.0"
      ]
     },
     "execution_count": 68,
     "metadata": {},
     "output_type": "execute_result"
    }
   ],
   "source": [
    "lr.score(X_train,y_train)"
   ]
  },
  {
   "cell_type": "code",
   "execution_count": 69,
   "metadata": {},
   "outputs": [],
   "source": [
    "LogisticRegression?"
   ]
  },
  {
   "cell_type": "code",
   "execution_count": null,
   "metadata": {},
   "outputs": [],
   "source": []
  }
 ],
 "metadata": {
  "kernelspec": {
   "display_name": "Python 3",
   "language": "python",
   "name": "python3"
  },
  "language_info": {
   "codemirror_mode": {
    "name": "ipython",
    "version": 3
   },
   "file_extension": ".py",
   "mimetype": "text/x-python",
   "name": "python",
   "nbconvert_exporter": "python",
   "pygments_lexer": "ipython3",
   "version": "3.6.3"
  }
 },
 "nbformat": 4,
 "nbformat_minor": 2
}
