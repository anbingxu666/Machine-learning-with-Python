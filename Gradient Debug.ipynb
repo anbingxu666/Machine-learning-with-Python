{
 "cells": [
  {
   "cell_type": "markdown",
   "metadata": {},
   "source": [
    "### 在偏导数不好求的时候 我们可以通过数学方法 （导数的定义） 近似求出导数来训练模型"
   ]
  },
  {
   "cell_type": "code",
   "execution_count": 1,
   "metadata": {},
   "outputs": [],
   "source": [
    "import numpy as np"
   ]
  },
  {
   "cell_type": "code",
   "execution_count": 2,
   "metadata": {},
   "outputs": [],
   "source": [
    "np.random.seed(666)\n",
    "X = np.random.random(size=(1000, 10))\n",
    "\n",
    "true_theta = np.arange(1, 12, dtype=float)\n",
    "X_b = np.hstack([np.ones((len(X), 1)), X])\n",
    "y = X_b.dot(true_theta) + np.random.normal(size=1000)"
   ]
  },
  {
   "cell_type": "code",
   "execution_count": 3,
   "metadata": {},
   "outputs": [],
   "source": [
    "def J(theta, X_b, y):\n",
    "    try:\n",
    "        return np.sum((y - X_b.dot(theta))**2) / len(X_b)\n",
    "    except:\n",
    "        return float('inf')"
   ]
  },
  {
   "cell_type": "code",
   "execution_count": 4,
   "metadata": {},
   "outputs": [],
   "source": [
    "def dJ_math(theta, X_b, y):\n",
    "    return X_b.T.dot(X_b.dot(theta) - y) * 2. / len(y)"
   ]
  },
  {
   "cell_type": "code",
   "execution_count": 19,
   "metadata": {},
   "outputs": [],
   "source": [
    "def dJ_debug(theta, X_b, y, epsilon=0.01):\n",
    "    #向量化后的近似算法  速度惊人！！！（这也说明了 矩阵乘法虽然比多次循环快 但是时间复杂度依然没有加法低）\n",
    "    res = np.empty(len(theta))\n",
    "    theta_1 = theta.copy() + epsilon\n",
    "    theta_2 = theta.copy() - epsilon\n",
    "\n",
    "    res = (J(theta_1, X_b, y) - J(theta_2, X_b, y)) / (2 * epsilon)\n",
    "    return res"
   ]
  },
  {
   "cell_type": "code",
   "execution_count": 21,
   "metadata": {},
   "outputs": [],
   "source": [
    "def gradient_descent(dJ, X_b, y, initial_theta, eta, n_iters = 1e4, epsilon=1e-8):\n",
    "    #函数可以作为参数传进来的 ：神奇的py\n",
    "    theta = initial_theta\n",
    "    cur_iter = 0\n",
    "\n",
    "    while cur_iter < n_iters:\n",
    "        gradient = dJ(theta, X_b, y)\n",
    "        last_theta = theta\n",
    "        theta = theta - eta * gradient\n",
    "        if(abs(J(theta, X_b, y) - J(last_theta, X_b, y)) < epsilon):\n",
    "            break\n",
    "            \n",
    "        cur_iter += 1\n",
    "\n",
    "    return theta"
   ]
  },
  {
   "cell_type": "code",
   "execution_count": 15,
   "metadata": {},
   "outputs": [
    {
     "name": "stdout",
     "output_type": "stream",
     "text": [
      "682 µs ± 14.6 µs per loop (mean ± std. dev. of 7 runs, 1000 loops each)\n"
     ]
    },
    {
     "data": {
      "text/plain": [
       "array([  1.07293573,   2.05354247,   2.93055223,   4.13101404,\n",
       "         5.05988882,   5.91570444,   6.98527461,   8.00946189,\n",
       "         8.87375842,   9.99684667,  10.91656348])"
      ]
     },
     "execution_count": 15,
     "metadata": {},
     "output_type": "execute_result"
    }
   ],
   "source": [
    "X_b = np.hstack([np.ones((len(X), 1)), X])\n",
    "initial_theta = np.zeros(X_b.shape[1])\n",
    "eta = 0.01"
   ]
  },
  {
   "cell_type": "code",
   "execution_count": 17,
   "metadata": {},
   "outputs": [
    {
     "name": "stdout",
     "output_type": "stream",
     "text": [
      "674 µs ± 7.46 µs per loop (mean ± std. dev. of 7 runs, 1000 loops each)\n"
     ]
    },
    {
     "data": {
      "text/plain": [
       "array([  1.07293573,   2.05354247,   2.93055223,   4.13101404,\n",
       "         5.05988882,   5.91570444,   6.98527461,   8.00946189,\n",
       "         8.87375842,   9.99684667,  10.91656348])"
      ]
     },
     "execution_count": 17,
     "metadata": {},
     "output_type": "execute_result"
    }
   ],
   "source": [
    "%timeit theta = gradient_descent(dJ_debug, X_b, y, initial_theta, eta)\n",
    "theta"
   ]
  },
  {
   "cell_type": "code",
   "execution_count": 18,
   "metadata": {},
   "outputs": [
    {
     "name": "stdout",
     "output_type": "stream",
     "text": [
      "519 ms ± 5.62 ms per loop (mean ± std. dev. of 7 runs, 1 loop each)\n"
     ]
    },
    {
     "data": {
      "text/plain": [
       "array([  1.07293573,   2.05354247,   2.93055223,   4.13101404,\n",
       "         5.05988882,   5.91570444,   6.98527461,   8.00946189,\n",
       "         8.87375842,   9.99684667,  10.91656348])"
      ]
     },
     "execution_count": 18,
     "metadata": {},
     "output_type": "execute_result"
    }
   ],
   "source": [
    "%timeit theta = gradient_descent(dJ_math, X_b, y, initial_theta, eta)\n",
    "theta"
   ]
  },
  {
   "cell_type": "code",
   "execution_count": 22,
   "metadata": {},
   "outputs": [
    {
     "ename": "SyntaxError",
     "evalue": "invalid syntax (<ipython-input-22-087bbe66f4eb>, line 7)",
     "output_type": "error",
     "traceback": [
      "\u001b[1;36m  File \u001b[1;32m\"<ipython-input-22-087bbe66f4eb>\"\u001b[1;36m, line \u001b[1;32m7\u001b[0m\n\u001b[1;33m    for i in range(len(y)/k)\u001b[0m\n\u001b[1;37m                            ^\u001b[0m\n\u001b[1;31mSyntaxError\u001b[0m\u001b[1;31m:\u001b[0m invalid syntax\n"
     ]
    }
   ],
   "source": [
    "def mini_batch_gradient_descent(dJ, X_b, y, initial_theta, eta, n_iters = 5, k=20,epsilon=1e-8):\n",
    "    #函数可以作为参数传进来的 ：神奇的py\n",
    "    theta = initial_theta\n",
    "    cur_iter = 0\n",
    "\n",
    "    while cur_iter < n_iters:\n",
    "        for i in range(len(y)/k)\n",
    "            gradient = dJ(theta, X_b, y)\n",
    "            last_theta = theta\n",
    "            theta = theta - eta * gradient\n",
    "            if(abs(J(theta, X_b, y) - J(last_theta, X_b, y)) < epsilon):\n",
    "                break\n",
    "            \n",
    "        cur_iter += 1\n",
    "\n",
    "    return theta"
   ]
  },
  {
   "cell_type": "code",
   "execution_count": 69,
   "metadata": {},
   "outputs": [],
   "source": [
    "def stochastic_gradient_descent(X_b, y_train,theta, n_iters,k=20):\n",
    "    iters_of_number =int(len(X_b) / k)\n",
    "    print(iters_of_number)\n",
    "    for n in range(n_iters):\n",
    "        # shuffle X和y  （注意X_y之间的顺序有关系！）\n",
    "        X_y = np.hstack([X_b, y_train.reshape((-1, 1))])\n",
    "        np.random.shuffle(X_y)\n",
    "        X_b_new = X_y[:, 0:-1]\n",
    "        y_b_new = X_y[:, -1]\n",
    "\n",
    "        # 主要算法 因为X y 是随机序列 所以顺序取出来X y做随机梯度下降就可以\n",
    "        for i in range(iters_of_number):\n",
    "            grad_mini = 0\n",
    "            # 计算mini batch梯度\n",
    "            #print(\"计算mini batch----->\",i)\n",
    "            for mini_i in range(k):\n",
    "                #print(\"下标：\",i*k+mini_i)\n",
    "                x_i = X_b_new[i*k+mini_i]\n",
    "                y_i = y_b_new[i*k+mini_i]\n",
    "                grad_mini += dJ_theta_stochastic(x_i, y_i, theta)\n",
    "            #print(\"k个梯度的和:\",grad_mini)\n",
    "            # 更新theta\n",
    "            theta = theta - learning_rate(i*50) * grad_mini\n",
    "    return theta\n"
   ]
  },
  {
   "cell_type": "code",
   "execution_count": 139,
   "metadata": {},
   "outputs": [],
   "source": [
    "def dJ_theta_stochastic(x_i, y_i, theta):\n",
    "    return x_i.T.dot(x_i.dot(theta) - y_i) * 2.\n",
    "\n",
    "def learning_rate(t):\n",
    "    return 1 / (t+1)"
   ]
  },
  {
   "cell_type": "code",
   "execution_count": 162,
   "metadata": {},
   "outputs": [
    {
     "name": "stdout",
     "output_type": "stream",
     "text": [
      "50\n"
     ]
    },
    {
     "data": {
      "text/plain": [
       "array([ -218093.43176111,  -660476.33458645,  1033401.67658999,\n",
       "         572962.7880886 , -1025444.04806688,  1270850.3055133 ,\n",
       "       -1180121.05781863, -1677138.62263202,    -8884.49128022,\n",
       "         899946.33069137,  1228640.2861648 ])"
      ]
     },
     "execution_count": 162,
     "metadata": {},
     "output_type": "execute_result"
    }
   ],
   "source": [
    "X_b = np.hstack([np.ones((len(X), 1)), X])\n",
    "initial_theta = np.zeros(X_b.shape[1])\n",
    "stochastic_gradient_descent(X_b,y,initial_theta,n_iters=10,k=20)"
   ]
  },
  {
   "cell_type": "code",
   "execution_count": null,
   "metadata": {},
   "outputs": [],
   "source": []
  },
  {
   "cell_type": "code",
   "execution_count": null,
   "metadata": {},
   "outputs": [],
   "source": []
  }
 ],
 "metadata": {
  "kernelspec": {
   "display_name": "Python 3",
   "language": "python",
   "name": "python3"
  },
  "language_info": {
   "codemirror_mode": {
    "name": "ipython",
    "version": 3
   },
   "file_extension": ".py",
   "mimetype": "text/x-python",
   "name": "python",
   "nbconvert_exporter": "python",
   "pygments_lexer": "ipython3",
   "version": "3.6.3"
  }
 },
 "nbformat": 4,
 "nbformat_minor": 2
}
