{
 "cells": [
  {
   "cell_type": "markdown",
   "metadata": {},
   "source": [
    "### 在偏导数不好求的时候 我们可以通过数学方法 （导数的定义） 近似求出导数来训练模型"
   ]
  },
  {
   "cell_type": "code",
   "execution_count": 1,
   "metadata": {},
   "outputs": [],
   "source": [
    "import numpy as np"
   ]
  },
  {
   "cell_type": "code",
   "execution_count": 2,
   "metadata": {},
   "outputs": [],
   "source": [
    "np.random.seed(666)\n",
    "X = np.random.random(size=(1000, 10))\n",
    "\n",
    "true_theta = np.arange(1, 12, dtype=float)\n",
    "X_b = np.hstack([np.ones((len(X), 1)), X])\n",
    "y = X_b.dot(true_theta) + np.random.normal(size=1000)"
   ]
  },
  {
   "cell_type": "code",
   "execution_count": 3,
   "metadata": {},
   "outputs": [],
   "source": [
    "def J(theta, X_b, y):\n",
    "    try:\n",
    "        return np.sum((y - X_b.dot(theta))**2) / len(X_b)\n",
    "    except:\n",
    "        return float('inf')"
   ]
  },
  {
   "cell_type": "code",
   "execution_count": 4,
   "metadata": {},
   "outputs": [],
   "source": [
    "def dJ_math(theta, X_b, y):\n",
    "    return X_b.T.dot(X_b.dot(theta) - y) * 2. / len(y)"
   ]
  },
  {
   "cell_type": "code",
   "execution_count": 129,
   "metadata": {},
   "outputs": [],
   "source": [
    "def dJ_debug(theta, X_b, y, epsilon=0.01):\n",
    "    res = np.empty(len(theta))\n",
    "    for i in range(len(theta)):\n",
    "        theta_1 = theta.copy()\n",
    "        theta_1[i] += epsilon\n",
    "        theta_2 = theta.copy()\n",
    "        theta_2[i] -= epsilon\n",
    "        res[i] = (J(theta_1, X_b, y) - J(theta_2, X_b, y)) / (2 * epsilon)\n",
    "    return res"
   ]
  },
  {
   "cell_type": "code",
   "execution_count": 130,
   "metadata": {},
   "outputs": [
    {
     "data": {
      "text/plain": [
       "array([-67.00674934, -34.88852187, -34.12158402, -34.12599755,\n",
       "       -34.25458534, -34.37153116, -33.57002731, -34.93556353,\n",
       "       -35.45595111, -35.18706586, -35.82788229])"
      ]
     },
     "execution_count": 130,
     "metadata": {},
     "output_type": "execute_result"
    }
   ],
   "source": [
    "dJ_debug(initial_theta, X_b, y)"
   ]
  },
  {
   "cell_type": "code",
   "execution_count": 109,
   "metadata": {},
   "outputs": [],
   "source": [
    "def gradient_descent(dJ, X_b, y, initial_theta, eta, n_iters = 1e4, epsilon=1e-8):\n",
    "    #函数可以作为参数传进来的 ：神奇的py\n",
    "    theta = initial_theta\n",
    "    cur_iter = 0\n",
    "\n",
    "    while cur_iter < n_iters:\n",
    "        gradient = dJ(theta, X_b, y)\n",
    "        last_theta = theta\n",
    "        theta = theta - eta * gradient\n",
    "        if(abs(J(theta, X_b, y) - J(last_theta, X_b, y)) < epsilon):\n",
    "            break\n",
    "            \n",
    "        cur_iter += 1\n",
    "\n",
    "    return theta"
   ]
  },
  {
   "cell_type": "code",
   "execution_count": 110,
   "metadata": {},
   "outputs": [],
   "source": [
    "X_b = np.hstack([np.ones((len(X), 1)), X])\n",
    "initial_theta = np.zeros(X_b.shape[1])\n",
    "eta = 0.01"
   ]
  },
  {
   "cell_type": "code",
   "execution_count": 111,
   "metadata": {},
   "outputs": [
    {
     "name": "stdout",
     "output_type": "stream",
     "text": [
      "res:shape, (11, 1)\n",
      "theta:shape, (11, 1)\n",
      "res:shape, (11, 1)\n",
      "theta:shape, (11, 1)\n",
      "res:shape, (11, 1)\n",
      "theta:shape, (11, 1)\n",
      "res:shape, (11, 1)\n",
      "theta:shape, (11, 1)\n",
      "res:shape, (11, 1)\n",
      "theta:shape, (11, 1)\n",
      "res:shape, (11, 1)\n",
      "theta:shape, (11, 1)\n",
      "Wall time: 116 ms\n"
     ]
    }
   ],
   "source": [
    "%%time \n",
    "theta = gradient_descent(dJ_debug, X_b, y, initial_theta, eta)"
   ]
  },
  {
   "cell_type": "code",
   "execution_count": 112,
   "metadata": {},
   "outputs": [
    {
     "data": {
      "text/plain": [
       "array([  1.16826695e+15,   1.16826695e+15,   1.16826695e+15,\n",
       "         1.16826695e+15,   1.16826695e+15,   1.16826695e+15,\n",
       "         1.16826695e+15,   1.16826695e+15,   1.16826695e+15,\n",
       "         1.16826695e+15,   1.16826695e+15])"
      ]
     },
     "execution_count": 112,
     "metadata": {},
     "output_type": "execute_result"
    }
   ],
   "source": [
    "theta"
   ]
  },
  {
   "cell_type": "code",
   "execution_count": 113,
   "metadata": {},
   "outputs": [
    {
     "name": "stdout",
     "output_type": "stream",
     "text": [
      "Wall time: 743 ms\n"
     ]
    }
   ],
   "source": [
    "%%time \n",
    "theta = gradient_descent(dJ_math, X_b, y, initial_theta, eta)"
   ]
  },
  {
   "cell_type": "code",
   "execution_count": 114,
   "metadata": {},
   "outputs": [
    {
     "data": {
      "text/plain": [
       "array([[  1.1251597 ],\n",
       "       [  2.05312521],\n",
       "       [  2.91522497],\n",
       "       [  4.11895968],\n",
       "       [  5.05002117],\n",
       "       [  5.90494046],\n",
       "       [  6.97383745],\n",
       "       [  8.00088367],\n",
       "       [  8.86213468],\n",
       "       [  9.98608331],\n",
       "       [ 10.90529198]])"
      ]
     },
     "execution_count": 114,
     "metadata": {},
     "output_type": "execute_result"
    }
   ],
   "source": [
    "theta.reshape((-1,1))"
   ]
  },
  {
   "cell_type": "code",
   "execution_count": 115,
   "metadata": {},
   "outputs": [
    {
     "name": "stdout",
     "output_type": "stream",
     "text": [
      "res:shape, (11, 1)\n",
      "theta:shape, (11, 1)\n"
     ]
    },
    {
     "data": {
      "text/plain": [
       "-402311.64992356207"
      ]
     },
     "execution_count": 115,
     "metadata": {},
     "output_type": "execute_result"
    }
   ],
   "source": []
  },
  {
   "cell_type": "code",
   "execution_count": 107,
   "metadata": {},
   "outputs": [
    {
     "data": {
      "text/plain": [
       "array([-67.00674934, -34.88852187, -34.12158402, -34.12599755,\n",
       "       -34.25458534, -34.37153116, -33.57002731, -34.93556353,\n",
       "       -35.45595111, -35.18706586, -35.82788229])"
      ]
     },
     "execution_count": 107,
     "metadata": {},
     "output_type": "execute_result"
    }
   ],
   "source": [
    "dJ_math(initial_theta,X_b,y)"
   ]
  },
  {
   "cell_type": "markdown",
   "metadata": {},
   "source": [
    "### mini batch梯度下降法（未能成功实现：原因不清楚！）"
   ]
  },
  {
   "cell_type": "code",
   "execution_count": 36,
   "metadata": {},
   "outputs": [],
   "source": [
    "def stochastic_gradient_descent(X_b, y_train,theta, n_iters,k=20):\n",
    "    iters_of_number =int(len(X_b) / k)\n",
    "    print(iters_of_number)\n",
    "    for n in range(n_iters):\n",
    "        # shuffle X和y  （注意X_y之间的顺序有关系！）\n",
    "        X_y = np.hstack([X_b, y_train.reshape((-1, 1))])\n",
    "#         np.random.shuffle(X_y)\n",
    "        X_b_new = X_y[:, 0:-1]\n",
    "        y_b_new = X_y[:, -1]\n",
    "\n",
    "        # 主要算法 因为X y 是随机序列 所以顺序取出来X y做随机梯度下降就可以\n",
    "        for i in range(iters_of_number):\n",
    "            grad_mini = 0\n",
    "            # 计算mini batch梯度\n",
    "            #print(\"计算mini batch----->\",i)\n",
    "            for mini_i in range(k):\n",
    "                #print(\"下标：\",i*k+mini_i)\n",
    "                x_i = X_b_new[i*k+mini_i]\n",
    "                y_i = y_b_new[i*k+mini_i]\n",
    "                grad_mini += dJ_theta_stochastic(x_i, y_i, theta)\n",
    "            #print(\"k个梯度的和:\",grad_mini)\n",
    "            # 更新theta\n",
    "            theta = theta - 1e-2* grad_mini\n",
    "    return theta\n"
   ]
  },
  {
   "cell_type": "code",
   "execution_count": 37,
   "metadata": {},
   "outputs": [],
   "source": [
    "def dJ_theta_stochastic(x_i, y_i, theta):\n",
    "    return x_i.T.dot(x_i.dot(theta) - y_i) * 2.\n",
    "\n",
    "def learning_rate(t):\n",
    "    return 1 / (t+1)"
   ]
  },
  {
   "cell_type": "code",
   "execution_count": null,
   "metadata": {},
   "outputs": [],
   "source": [
    "X_b = np.hstack([np.ones((len(X), 1)), X])\n",
    "initial_theta = np.zeros(X_b.shape[1])\n",
    "stochastic_gradient_descent(X_b,y,initial_theta,n_iters=1,k=20)"
   ]
  },
  {
   "cell_type": "code",
   "execution_count": null,
   "metadata": {},
   "outputs": [],
   "source": []
  },
  {
   "cell_type": "code",
   "execution_count": null,
   "metadata": {},
   "outputs": [],
   "source": []
  }
 ],
 "metadata": {
  "kernelspec": {
   "display_name": "Python 3",
   "language": "python",
   "name": "python3"
  },
  "language_info": {
   "codemirror_mode": {
    "name": "ipython",
    "version": 3
   },
   "file_extension": ".py",
   "mimetype": "text/x-python",
   "name": "python",
   "nbconvert_exporter": "python",
   "pygments_lexer": "ipython3",
   "version": "3.6.3"
  }
 },
 "nbformat": 4,
 "nbformat_minor": 2
}
