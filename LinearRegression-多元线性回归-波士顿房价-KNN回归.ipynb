{
 "cells": [
  {
   "cell_type": "markdown",
   "metadata": {},
   "source": [
    "# 1 自己实现LinearRegression\n",
    "# 2 使用sklearn中的LinearRegression\n",
    "# 3 用KNN算法进行回归"
   ]
  },
  {
   "cell_type": "code",
   "execution_count": 43,
   "metadata": {},
   "outputs": [],
   "source": [
    "\n",
    "\n",
    "from sklearn.datasets import load_boston\n",
    "import numpy as np\n",
    "import matplotlib.pyplot as plt\n",
    "from LinearRegression import LinearRegression\n",
    "from model_selection import train_test_split "
   ]
  },
  {
   "cell_type": "markdown",
   "metadata": {},
   "source": [
    "### 加载数据"
   ]
  },
  {
   "cell_type": "code",
   "execution_count": 14,
   "metadata": {},
   "outputs": [],
   "source": [
    "data = load_boston()\n",
    "data_X = data.data\n",
    "data_y = data.target"
   ]
  },
  {
   "cell_type": "code",
   "execution_count": 15,
   "metadata": {},
   "outputs": [
    {
     "data": {
      "text/plain": [
       "(506, 13)"
      ]
     },
     "execution_count": 15,
     "metadata": {},
     "output_type": "execute_result"
    }
   ],
   "source": [
    "data_X.shape"
   ]
  },
  {
   "cell_type": "code",
   "execution_count": 16,
   "metadata": {},
   "outputs": [
    {
     "data": {
      "text/plain": [
       "(506,)"
      ]
     },
     "execution_count": 16,
     "metadata": {},
     "output_type": "execute_result"
    }
   ],
   "source": [
    "data_y.shape"
   ]
  },
  {
   "cell_type": "markdown",
   "metadata": {},
   "source": [
    "### 去除边界数据"
   ]
  },
  {
   "cell_type": "code",
   "execution_count": 17,
   "metadata": {},
   "outputs": [],
   "source": [
    "data_X = data_X[data_y<50]"
   ]
  },
  {
   "cell_type": "code",
   "execution_count": 19,
   "metadata": {},
   "outputs": [],
   "source": [
    "data_y = data_y[data_y<50]"
   ]
  },
  {
   "cell_type": "markdown",
   "metadata": {},
   "source": [
    "### 分割数据"
   ]
  },
  {
   "cell_type": "code",
   "execution_count": 32,
   "metadata": {},
   "outputs": [],
   "source": [
    "X_train,y_train,X_test,y_test = train_test_split(data_X,data_y,seed=666)"
   ]
  },
  {
   "cell_type": "markdown",
   "metadata": {},
   "source": [
    "### 训练模型"
   ]
  },
  {
   "cell_type": "code",
   "execution_count": 21,
   "metadata": {},
   "outputs": [
    {
     "data": {
      "text/plain": [
       "LinearRegression()  with normal_equation"
      ]
     },
     "execution_count": 21,
     "metadata": {},
     "output_type": "execute_result"
    }
   ],
   "source": [
    "LR = LinearRegression()\n",
    "LR.fit_normal(X_train,y_train)"
   ]
  },
  {
   "cell_type": "code",
   "execution_count": 22,
   "metadata": {},
   "outputs": [
    {
     "data": {
      "text/plain": [
       "0.81298026026583592"
      ]
     },
     "execution_count": 22,
     "metadata": {},
     "output_type": "execute_result"
    }
   ],
   "source": [
    "LR.score(X_test,y_test)"
   ]
  },
  {
   "cell_type": "code",
   "execution_count": 23,
   "metadata": {},
   "outputs": [
    {
     "data": {
      "text/plain": [
       "array([ -1.18919477e-01,   3.63991462e-02,  -3.56494193e-02,\n",
       "         5.66737830e-02,  -1.16195486e+01,   3.42022185e+00,\n",
       "        -2.31470282e-02,  -1.19509560e+00,   2.59339091e-01,\n",
       "        -1.40112724e-02,  -8.36521175e-01,   7.92283639e-03,\n",
       "        -3.81966137e-01])"
      ]
     },
     "execution_count": 23,
     "metadata": {},
     "output_type": "execute_result"
    }
   ],
   "source": [
    "LR.cofficients_"
   ]
  },
  {
   "cell_type": "code",
   "execution_count": 24,
   "metadata": {},
   "outputs": [
    {
     "data": {
      "text/plain": [
       "array([ 34.1614355])"
      ]
     },
     "execution_count": 24,
     "metadata": {},
     "output_type": "execute_result"
    }
   ],
   "source": [
    "LR.intercept_"
   ]
  },
  {
   "cell_type": "markdown",
   "metadata": {},
   "source": [
    "## 使用sklearn重封装好的LinearRegression(使用正规方差计算的score不收到特征之间的规模不同的影响)\n",
    "是否归一化 对结果没有影响"
   ]
  },
  {
   "cell_type": "code",
   "execution_count": 33,
   "metadata": {},
   "outputs": [],
   "source": [
    "from sklearn.linear_model import LinearRegression\n",
    "from sklearn.model_selection import train_test_split"
   ]
  },
  {
   "cell_type": "code",
   "execution_count": 34,
   "metadata": {},
   "outputs": [],
   "source": [
    "data = load_boston()\n",
    "data_X = data.data\n",
    "data_y = data.target\n",
    "data_X = data_X[data_y<50.0]\n",
    "data_y = data_y[data_y<50.0]"
   ]
  },
  {
   "cell_type": "code",
   "execution_count": 40,
   "metadata": {},
   "outputs": [],
   "source": [
    "#X_train,X_test,y_train,y_test = train_test_split(data_X,data_y,random_state = 666,test_size = 0.2)\n",
    "#若全部使用sklearn中的方法我们应该使用sklearn中的split \n",
    "#    但是为了方便和上面自己实现的方法进行对比  我们依然使用自己的train_test_split切割完毕的数据\n"
   ]
  },
  {
   "cell_type": "code",
   "execution_count": 35,
   "metadata": {},
   "outputs": [],
   "source": [
    "sklearn_LR = LinearRegression()"
   ]
  },
  {
   "cell_type": "code",
   "execution_count": 101,
   "metadata": {},
   "outputs": [
    {
     "data": {
      "text/plain": [
       "LinearRegression(copy_X=True, fit_intercept=True, n_jobs=1, normalize=False)"
      ]
     },
     "execution_count": 101,
     "metadata": {},
     "output_type": "execute_result"
    }
   ],
   "source": [
    "sklearn_LR.fit(X_train,y_train)"
   ]
  },
  {
   "cell_type": "code",
   "execution_count": 102,
   "metadata": {},
   "outputs": [
    {
     "data": {
      "text/plain": [
       "array([ -1.18919477e-01,   3.63991462e-02,  -3.56494193e-02,\n",
       "         5.66737830e-02,  -1.16195486e+01,   3.42022185e+00,\n",
       "        -2.31470282e-02,  -1.19509560e+00,   2.59339091e-01,\n",
       "        -1.40112724e-02,  -8.36521175e-01,   7.92283639e-03,\n",
       "        -3.81966137e-01])"
      ]
     },
     "execution_count": 102,
     "metadata": {},
     "output_type": "execute_result"
    }
   ],
   "source": [
    "sklearn_LR.coef_"
   ]
  },
  {
   "cell_type": "code",
   "execution_count": 103,
   "metadata": {},
   "outputs": [
    {
     "data": {
      "text/plain": [
       "34.161435496245851"
      ]
     },
     "execution_count": 103,
     "metadata": {},
     "output_type": "execute_result"
    }
   ],
   "source": [
    "sklearn_LR.intercept_"
   ]
  },
  {
   "cell_type": "code",
   "execution_count": 104,
   "metadata": {},
   "outputs": [
    {
     "data": {
      "text/plain": [
       "0.81298026026584858"
      ]
     },
     "execution_count": 104,
     "metadata": {},
     "output_type": "execute_result"
    }
   ],
   "source": [
    "sklearn_LR.score(X_test,y_test)"
   ]
  },
  {
   "cell_type": "markdown",
   "metadata": {},
   "source": [
    "## 二、KNN Regressor"
   ]
  },
  {
   "cell_type": "markdown",
   "metadata": {},
   "source": [
    "### 数据归一化"
   ]
  },
  {
   "cell_type": "code",
   "execution_count": 93,
   "metadata": {},
   "outputs": [],
   "source": [
    "from sklearn.preprocessing import StandardScaler\n",
    "sS = StandardScaler()\n",
    "sS.fit(X_train)\n",
    "sS_X_train = sS.transform(X_train)\n",
    "sS_X_test = sS.transform(X_test)"
   ]
  },
  {
   "cell_type": "code",
   "execution_count": 66,
   "metadata": {},
   "outputs": [],
   "source": [
    "from sklearn.neighbors import KNeighborsRegressor"
   ]
  },
  {
   "cell_type": "markdown",
   "metadata": {},
   "source": [
    "### 分类器使用默认参数！"
   ]
  },
  {
   "cell_type": "code",
   "execution_count": 67,
   "metadata": {},
   "outputs": [],
   "source": [
    "KNR = KNeighborsRegressor()"
   ]
  },
  {
   "cell_type": "code",
   "execution_count": 83,
   "metadata": {},
   "outputs": [],
   "source": [
    "KNR_NO = KNeighborsRegressor()"
   ]
  },
  {
   "cell_type": "markdown",
   "metadata": {},
   "source": [
    "#### 未使用数据归一化！"
   ]
  },
  {
   "cell_type": "code",
   "execution_count": 85,
   "metadata": {},
   "outputs": [
    {
     "data": {
      "text/plain": [
       "KNeighborsRegressor(algorithm='auto', leaf_size=30, metric='minkowski',\n",
       "          metric_params=None, n_jobs=1, n_neighbors=5, p=2,\n",
       "          weights='uniform')"
      ]
     },
     "execution_count": 85,
     "metadata": {},
     "output_type": "execute_result"
    }
   ],
   "source": [
    "KNR_NO.fit(X_train,y_train)"
   ]
  },
  {
   "cell_type": "code",
   "execution_count": 88,
   "metadata": {},
   "outputs": [
    {
     "data": {
      "text/plain": [
       "0.58654121983008989"
      ]
     },
     "execution_count": 88,
     "metadata": {},
     "output_type": "execute_result"
    }
   ],
   "source": [
    "KNR_NO.score(X_test,y_test)"
   ]
  },
  {
   "cell_type": "markdown",
   "metadata": {},
   "source": [
    "#### 使用了数据归一化！"
   ]
  },
  {
   "cell_type": "code",
   "execution_count": 81,
   "metadata": {},
   "outputs": [
    {
     "data": {
      "text/plain": [
       "KNeighborsRegressor(algorithm='auto', leaf_size=30, metric='minkowski',\n",
       "          metric_params=None, n_jobs=1, n_neighbors=5, p=2,\n",
       "          weights='uniform')"
      ]
     },
     "execution_count": 81,
     "metadata": {},
     "output_type": "execute_result"
    }
   ],
   "source": [
    "KNR.fit(sS_X_train,y_train)"
   ]
  },
  {
   "cell_type": "code",
   "execution_count": 90,
   "metadata": {},
   "outputs": [
    {
     "data": {
      "text/plain": [
       "0.84664511530389497"
      ]
     },
     "execution_count": 90,
     "metadata": {},
     "output_type": "execute_result"
    }
   ],
   "source": [
    "KNR.score(sS_X_test,y_test) #此分数 是彼分数  计算标准一样！"
   ]
  },
  {
   "cell_type": "code",
   "execution_count": 91,
   "metadata": {},
   "outputs": [],
   "source": [
    "y_p = KNR.predict(sS_X_test)"
   ]
  },
  {
   "cell_type": "code",
   "execution_count": 92,
   "metadata": {},
   "outputs": [
    {
     "data": {
      "text/plain": [
       "0.84664511530389508"
      ]
     },
     "execution_count": 92,
     "metadata": {},
     "output_type": "execute_result"
    }
   ],
   "source": [
    "from metrics import r2_score\n",
    "r2_score(y_test,y_p)"
   ]
  },
  {
   "cell_type": "markdown",
   "metadata": {},
   "source": [
    "### 使用网格搜索选用最好的超参数"
   ]
  },
  {
   "cell_type": "code",
   "execution_count": 70,
   "metadata": {},
   "outputs": [],
   "source": [
    "from sklearn.model_selection import GridSearchCV"
   ]
  },
  {
   "cell_type": "code",
   "execution_count": 71,
   "metadata": {},
   "outputs": [],
   "source": [
    "para_grid = [\n",
    "    {\n",
    "        \"n_neighbors\":[i for i in range(1,11)],\n",
    "        \"weights\":[\"uniform\"]\n",
    "    },\n",
    "    {\n",
    "        \"n_neighbors\":[i for i in range(1,11)],\n",
    "        \"weights\":[\"distance\"],\n",
    "        \"p\":[i for i in range(1,6)]\n",
    "    }\n",
    "]"
   ]
  },
  {
   "cell_type": "code",
   "execution_count": 72,
   "metadata": {},
   "outputs": [],
   "source": [
    "grid_search = GridSearchCV(KNR,param_grid=para_grid,n_jobs=1,verbose=2)"
   ]
  },
  {
   "cell_type": "code",
   "execution_count": 73,
   "metadata": {
    "collapsed": true
   },
   "outputs": [
    {
     "name": "stdout",
     "output_type": "stream",
     "text": [
      "Fitting 3 folds for each of 60 candidates, totalling 180 fits\n",
      "[CV] n_neighbors=1, weights=uniform ..................................\n",
      "[CV] ................... n_neighbors=1, weights=uniform, total=   0.0s\n",
      "[CV] n_neighbors=1, weights=uniform ..................................\n",
      "[CV] ................... n_neighbors=1, weights=uniform, total=   0.0s\n",
      "[CV] n_neighbors=1, weights=uniform ..................................\n",
      "[CV] ................... n_neighbors=1, weights=uniform, total=   0.0s\n",
      "[CV] n_neighbors=2, weights=uniform ..................................\n",
      "[CV] ................... n_neighbors=2, weights=uniform, total=   0.0s\n",
      "[CV] n_neighbors=2, weights=uniform ..................................\n",
      "[CV] ................... n_neighbors=2, weights=uniform, total=   0.0s\n",
      "[CV] n_neighbors=2, weights=uniform ..................................\n",
      "[CV] ................... n_neighbors=2, weights=uniform, total=   0.0s\n",
      "[CV] n_neighbors=3, weights=uniform ..................................\n",
      "[CV] ................... n_neighbors=3, weights=uniform, total=   0.0s\n",
      "[CV] n_neighbors=3, weights=uniform ..................................\n",
      "[CV] ................... n_neighbors=3, weights=uniform, total=   0.0s\n",
      "[CV] n_neighbors=3, weights=uniform ..................................\n",
      "[CV] ................... n_neighbors=3, weights=uniform, total=   0.0s\n",
      "[CV] n_neighbors=4, weights=uniform ..................................\n",
      "[CV] ................... n_neighbors=4, weights=uniform, total=   0.0s\n",
      "[CV] n_neighbors=4, weights=uniform ..................................\n",
      "[CV] ................... n_neighbors=4, weights=uniform, total=   0.0s\n",
      "[CV] n_neighbors=4, weights=uniform ..................................\n",
      "[CV] ................... n_neighbors=4, weights=uniform, total=   0.0s\n",
      "[CV] n_neighbors=5, weights=uniform ..................................\n",
      "[CV] ................... n_neighbors=5, weights=uniform, total=   0.0s\n",
      "[CV] n_neighbors=5, weights=uniform ..................................\n",
      "[CV] ................... n_neighbors=5, weights=uniform, total=   0.0s\n",
      "[CV] n_neighbors=5, weights=uniform ..................................\n",
      "[CV] ................... n_neighbors=5, weights=uniform, total=   0.0s\n",
      "[CV] n_neighbors=6, weights=uniform ..................................\n",
      "[CV] ................... n_neighbors=6, weights=uniform, total=   0.0s\n",
      "[CV] n_neighbors=6, weights=uniform ..................................\n",
      "[CV] ................... n_neighbors=6, weights=uniform, total=   0.0s\n",
      "[CV] n_neighbors=6, weights=uniform ..................................\n",
      "[CV] ................... n_neighbors=6, weights=uniform, total=   0.0s\n",
      "[CV] n_neighbors=7, weights=uniform ..................................\n",
      "[CV] ................... n_neighbors=7, weights=uniform, total=   0.0s\n",
      "[CV] n_neighbors=7, weights=uniform ..................................\n",
      "[CV] ................... n_neighbors=7, weights=uniform, total=   0.0s\n",
      "[CV] n_neighbors=7, weights=uniform ..................................\n",
      "[CV] ................... n_neighbors=7, weights=uniform, total=   0.0s\n",
      "[CV] n_neighbors=8, weights=uniform ..................................\n",
      "[CV] ................... n_neighbors=8, weights=uniform, total=   0.0s\n",
      "[CV] n_neighbors=8, weights=uniform ..................................\n",
      "[CV] ................... n_neighbors=8, weights=uniform, total=   0.0s\n",
      "[CV] n_neighbors=8, weights=uniform ..................................\n",
      "[CV] ................... n_neighbors=8, weights=uniform, total=   0.0s\n",
      "[CV] n_neighbors=9, weights=uniform ..................................\n",
      "[CV] ................... n_neighbors=9, weights=uniform, total=   0.0s\n",
      "[CV] n_neighbors=9, weights=uniform ..................................\n",
      "[CV] ................... n_neighbors=9, weights=uniform, total=   0.0s\n",
      "[CV] n_neighbors=9, weights=uniform ..................................\n",
      "[CV] ................... n_neighbors=9, weights=uniform, total=   0.0s\n",
      "[CV] n_neighbors=10, weights=uniform .................................\n",
      "[CV] .................. n_neighbors=10, weights=uniform, total=   0.0s\n",
      "[CV] n_neighbors=10, weights=uniform .................................\n",
      "[CV] .................. n_neighbors=10, weights=uniform, total=   0.0s\n",
      "[CV] n_neighbors=10, weights=uniform .................................\n",
      "[CV] .................. n_neighbors=10, weights=uniform, total=   0.0s\n",
      "[CV] n_neighbors=1, p=1, weights=distance ............................\n",
      "[CV] ............. n_neighbors=1, p=1, weights=distance, total=   0.0s\n",
      "[CV] n_neighbors=1, p=1, weights=distance ............................\n",
      "[CV] ............. n_neighbors=1, p=1, weights=distance, total=   0.0s\n",
      "[CV] n_neighbors=1, p=1, weights=distance ............................\n",
      "[CV] ............. n_neighbors=1, p=1, weights=distance, total=   0.0s\n",
      "[CV] n_neighbors=1, p=2, weights=distance ............................\n",
      "[CV] ............. n_neighbors=1, p=2, weights=distance, total=   0.0s\n",
      "[CV] n_neighbors=1, p=2, weights=distance ............................\n",
      "[CV] ............. n_neighbors=1, p=2, weights=distance, total=   0.0s\n",
      "[CV] n_neighbors=1, p=2, weights=distance ............................\n",
      "[CV] ............. n_neighbors=1, p=2, weights=distance, total=   0.0s\n",
      "[CV] n_neighbors=1, p=3, weights=distance ............................\n"
     ]
    },
    {
     "name": "stderr",
     "output_type": "stream",
     "text": [
      "[Parallel(n_jobs=1)]: Done   1 out of   1 | elapsed:    0.0s remaining:    0.0s\n"
     ]
    },
    {
     "name": "stdout",
     "output_type": "stream",
     "text": [
      "[CV] ............. n_neighbors=1, p=3, weights=distance, total=   0.0s\n",
      "[CV] n_neighbors=1, p=3, weights=distance ............................\n",
      "[CV] ............. n_neighbors=1, p=3, weights=distance, total=   0.0s\n",
      "[CV] n_neighbors=1, p=3, weights=distance ............................\n",
      "[CV] ............. n_neighbors=1, p=3, weights=distance, total=   0.0s\n",
      "[CV] n_neighbors=1, p=4, weights=distance ............................\n",
      "[CV] ............. n_neighbors=1, p=4, weights=distance, total=   0.0s\n",
      "[CV] n_neighbors=1, p=4, weights=distance ............................\n",
      "[CV] ............. n_neighbors=1, p=4, weights=distance, total=   0.0s\n",
      "[CV] n_neighbors=1, p=4, weights=distance ............................\n",
      "[CV] ............. n_neighbors=1, p=4, weights=distance, total=   0.0s\n",
      "[CV] n_neighbors=1, p=5, weights=distance ............................\n",
      "[CV] ............. n_neighbors=1, p=5, weights=distance, total=   0.0s\n",
      "[CV] n_neighbors=1, p=5, weights=distance ............................\n",
      "[CV] ............. n_neighbors=1, p=5, weights=distance, total=   0.0s\n",
      "[CV] n_neighbors=1, p=5, weights=distance ............................\n",
      "[CV] ............. n_neighbors=1, p=5, weights=distance, total=   0.0s\n",
      "[CV] n_neighbors=2, p=1, weights=distance ............................\n",
      "[CV] ............. n_neighbors=2, p=1, weights=distance, total=   0.0s\n",
      "[CV] n_neighbors=2, p=1, weights=distance ............................\n",
      "[CV] ............. n_neighbors=2, p=1, weights=distance, total=   0.0s\n",
      "[CV] n_neighbors=2, p=1, weights=distance ............................\n",
      "[CV] ............. n_neighbors=2, p=1, weights=distance, total=   0.0s\n",
      "[CV] n_neighbors=2, p=2, weights=distance ............................\n",
      "[CV] ............. n_neighbors=2, p=2, weights=distance, total=   0.0s\n",
      "[CV] n_neighbors=2, p=2, weights=distance ............................\n",
      "[CV] ............. n_neighbors=2, p=2, weights=distance, total=   0.0s\n",
      "[CV] n_neighbors=2, p=2, weights=distance ............................\n",
      "[CV] ............. n_neighbors=2, p=2, weights=distance, total=   0.0s\n",
      "[CV] n_neighbors=2, p=3, weights=distance ............................\n",
      "[CV] ............. n_neighbors=2, p=3, weights=distance, total=   0.0s\n",
      "[CV] n_neighbors=2, p=3, weights=distance ............................\n",
      "[CV] ............. n_neighbors=2, p=3, weights=distance, total=   0.0s\n",
      "[CV] n_neighbors=2, p=3, weights=distance ............................\n",
      "[CV] ............. n_neighbors=2, p=3, weights=distance, total=   0.0s\n",
      "[CV] n_neighbors=2, p=4, weights=distance ............................\n",
      "[CV] ............. n_neighbors=2, p=4, weights=distance, total=   0.0s\n",
      "[CV] n_neighbors=2, p=4, weights=distance ............................\n",
      "[CV] ............. n_neighbors=2, p=4, weights=distance, total=   0.0s\n",
      "[CV] n_neighbors=2, p=4, weights=distance ............................\n",
      "[CV] ............. n_neighbors=2, p=4, weights=distance, total=   0.0s\n",
      "[CV] n_neighbors=2, p=5, weights=distance ............................\n",
      "[CV] ............. n_neighbors=2, p=5, weights=distance, total=   0.0s\n",
      "[CV] n_neighbors=2, p=5, weights=distance ............................\n",
      "[CV] ............. n_neighbors=2, p=5, weights=distance, total=   0.0s\n",
      "[CV] n_neighbors=2, p=5, weights=distance ............................\n",
      "[CV] ............. n_neighbors=2, p=5, weights=distance, total=   0.0s\n",
      "[CV] n_neighbors=3, p=1, weights=distance ............................\n",
      "[CV] ............. n_neighbors=3, p=1, weights=distance, total=   0.0s\n",
      "[CV] n_neighbors=3, p=1, weights=distance ............................\n",
      "[CV] ............. n_neighbors=3, p=1, weights=distance, total=   0.0s\n",
      "[CV] n_neighbors=3, p=1, weights=distance ............................\n",
      "[CV] ............. n_neighbors=3, p=1, weights=distance, total=   0.0s\n",
      "[CV] n_neighbors=3, p=2, weights=distance ............................\n",
      "[CV] ............. n_neighbors=3, p=2, weights=distance, total=   0.0s\n",
      "[CV] n_neighbors=3, p=2, weights=distance ............................\n",
      "[CV] ............. n_neighbors=3, p=2, weights=distance, total=   0.0s\n",
      "[CV] n_neighbors=3, p=2, weights=distance ............................\n",
      "[CV] ............. n_neighbors=3, p=2, weights=distance, total=   0.0s\n",
      "[CV] n_neighbors=3, p=3, weights=distance ............................\n",
      "[CV] ............. n_neighbors=3, p=3, weights=distance, total=   0.0s\n",
      "[CV] n_neighbors=3, p=3, weights=distance ............................\n",
      "[CV] ............. n_neighbors=3, p=3, weights=distance, total=   0.0s\n",
      "[CV] n_neighbors=3, p=3, weights=distance ............................\n",
      "[CV] ............. n_neighbors=3, p=3, weights=distance, total=   0.0s\n",
      "[CV] n_neighbors=3, p=4, weights=distance ............................\n",
      "[CV] ............. n_neighbors=3, p=4, weights=distance, total=   0.0s\n",
      "[CV] n_neighbors=3, p=4, weights=distance ............................\n",
      "[CV] ............. n_neighbors=3, p=4, weights=distance, total=   0.0s\n",
      "[CV] n_neighbors=3, p=4, weights=distance ............................\n",
      "[CV] ............. n_neighbors=3, p=4, weights=distance, total=   0.0s\n",
      "[CV] n_neighbors=3, p=5, weights=distance ............................\n",
      "[CV] ............. n_neighbors=3, p=5, weights=distance, total=   0.0s\n",
      "[CV] n_neighbors=3, p=5, weights=distance ............................\n",
      "[CV] ............. n_neighbors=3, p=5, weights=distance, total=   0.0s\n",
      "[CV] n_neighbors=3, p=5, weights=distance ............................\n",
      "[CV] ............. n_neighbors=3, p=5, weights=distance, total=   0.0s\n",
      "[CV] n_neighbors=4, p=1, weights=distance ............................\n",
      "[CV] ............. n_neighbors=4, p=1, weights=distance, total=   0.0s\n",
      "[CV] n_neighbors=4, p=1, weights=distance ............................\n",
      "[CV] ............. n_neighbors=4, p=1, weights=distance, total=   0.0s\n",
      "[CV] n_neighbors=4, p=1, weights=distance ............................\n",
      "[CV] ............. n_neighbors=4, p=1, weights=distance, total=   0.0s\n",
      "[CV] n_neighbors=4, p=2, weights=distance ............................\n",
      "[CV] ............. n_neighbors=4, p=2, weights=distance, total=   0.0s\n",
      "[CV] n_neighbors=4, p=2, weights=distance ............................\n",
      "[CV] ............. n_neighbors=4, p=2, weights=distance, total=   0.0s\n",
      "[CV] n_neighbors=4, p=2, weights=distance ............................\n",
      "[CV] ............. n_neighbors=4, p=2, weights=distance, total=   0.0s\n",
      "[CV] n_neighbors=4, p=3, weights=distance ............................\n",
      "[CV] ............. n_neighbors=4, p=3, weights=distance, total=   0.0s\n",
      "[CV] n_neighbors=4, p=3, weights=distance ............................\n",
      "[CV] ............. n_neighbors=4, p=3, weights=distance, total=   0.0s\n",
      "[CV] n_neighbors=4, p=3, weights=distance ............................\n",
      "[CV] ............. n_neighbors=4, p=3, weights=distance, total=   0.0s\n",
      "[CV] n_neighbors=4, p=4, weights=distance ............................\n",
      "[CV] ............. n_neighbors=4, p=4, weights=distance, total=   0.0s\n",
      "[CV] n_neighbors=4, p=4, weights=distance ............................\n",
      "[CV] ............. n_neighbors=4, p=4, weights=distance, total=   0.0s\n",
      "[CV] n_neighbors=4, p=4, weights=distance ............................\n",
      "[CV] ............. n_neighbors=4, p=4, weights=distance, total=   0.0s\n",
      "[CV] n_neighbors=4, p=5, weights=distance ............................\n",
      "[CV] ............. n_neighbors=4, p=5, weights=distance, total=   0.0s\n",
      "[CV] n_neighbors=4, p=5, weights=distance ............................\n",
      "[CV] ............. n_neighbors=4, p=5, weights=distance, total=   0.0s\n",
      "[CV] n_neighbors=4, p=5, weights=distance ............................\n",
      "[CV] ............. n_neighbors=4, p=5, weights=distance, total=   0.0s\n",
      "[CV] n_neighbors=5, p=1, weights=distance ............................\n",
      "[CV] ............. n_neighbors=5, p=1, weights=distance, total=   0.0s\n",
      "[CV] n_neighbors=5, p=1, weights=distance ............................\n",
      "[CV] ............. n_neighbors=5, p=1, weights=distance, total=   0.0s\n",
      "[CV] n_neighbors=5, p=1, weights=distance ............................\n",
      "[CV] ............. n_neighbors=5, p=1, weights=distance, total=   0.0s\n",
      "[CV] n_neighbors=5, p=2, weights=distance ............................\n",
      "[CV] ............. n_neighbors=5, p=2, weights=distance, total=   0.0s\n",
      "[CV] n_neighbors=5, p=2, weights=distance ............................\n",
      "[CV] ............. n_neighbors=5, p=2, weights=distance, total=   0.0s\n",
      "[CV] n_neighbors=5, p=2, weights=distance ............................\n",
      "[CV] ............. n_neighbors=5, p=2, weights=distance, total=   0.0s\n",
      "[CV] n_neighbors=5, p=3, weights=distance ............................\n",
      "[CV] ............. n_neighbors=5, p=3, weights=distance, total=   0.0s\n",
      "[CV] n_neighbors=5, p=3, weights=distance ............................\n",
      "[CV] ............. n_neighbors=5, p=3, weights=distance, total=   0.0s\n",
      "[CV] n_neighbors=5, p=3, weights=distance ............................\n",
      "[CV] ............. n_neighbors=5, p=3, weights=distance, total=   0.0s\n",
      "[CV] n_neighbors=5, p=4, weights=distance ............................\n"
     ]
    },
    {
     "name": "stdout",
     "output_type": "stream",
     "text": [
      "[CV] ............. n_neighbors=5, p=4, weights=distance, total=   0.0s\n",
      "[CV] n_neighbors=5, p=4, weights=distance ............................\n",
      "[CV] ............. n_neighbors=5, p=4, weights=distance, total=   0.0s\n",
      "[CV] n_neighbors=5, p=4, weights=distance ............................\n",
      "[CV] ............. n_neighbors=5, p=4, weights=distance, total=   0.0s\n",
      "[CV] n_neighbors=5, p=5, weights=distance ............................\n",
      "[CV] ............. n_neighbors=5, p=5, weights=distance, total=   0.0s\n",
      "[CV] n_neighbors=5, p=5, weights=distance ............................\n",
      "[CV] ............. n_neighbors=5, p=5, weights=distance, total=   0.0s\n",
      "[CV] n_neighbors=5, p=5, weights=distance ............................\n",
      "[CV] ............. n_neighbors=5, p=5, weights=distance, total=   0.0s\n",
      "[CV] n_neighbors=6, p=1, weights=distance ............................\n",
      "[CV] ............. n_neighbors=6, p=1, weights=distance, total=   0.0s\n",
      "[CV] n_neighbors=6, p=1, weights=distance ............................\n",
      "[CV] ............. n_neighbors=6, p=1, weights=distance, total=   0.0s\n",
      "[CV] n_neighbors=6, p=1, weights=distance ............................\n",
      "[CV] ............. n_neighbors=6, p=1, weights=distance, total=   0.0s\n",
      "[CV] n_neighbors=6, p=2, weights=distance ............................\n",
      "[CV] ............. n_neighbors=6, p=2, weights=distance, total=   0.0s\n",
      "[CV] n_neighbors=6, p=2, weights=distance ............................\n",
      "[CV] ............. n_neighbors=6, p=2, weights=distance, total=   0.0s\n",
      "[CV] n_neighbors=6, p=2, weights=distance ............................\n",
      "[CV] ............. n_neighbors=6, p=2, weights=distance, total=   0.0s\n",
      "[CV] n_neighbors=6, p=3, weights=distance ............................\n",
      "[CV] ............. n_neighbors=6, p=3, weights=distance, total=   0.0s\n",
      "[CV] n_neighbors=6, p=3, weights=distance ............................\n",
      "[CV] ............. n_neighbors=6, p=3, weights=distance, total=   0.0s\n",
      "[CV] n_neighbors=6, p=3, weights=distance ............................\n",
      "[CV] ............. n_neighbors=6, p=3, weights=distance, total=   0.0s\n",
      "[CV] n_neighbors=6, p=4, weights=distance ............................\n",
      "[CV] ............. n_neighbors=6, p=4, weights=distance, total=   0.0s\n",
      "[CV] n_neighbors=6, p=4, weights=distance ............................\n",
      "[CV] ............. n_neighbors=6, p=4, weights=distance, total=   0.0s\n",
      "[CV] n_neighbors=6, p=4, weights=distance ............................\n",
      "[CV] ............. n_neighbors=6, p=4, weights=distance, total=   0.0s\n",
      "[CV] n_neighbors=6, p=5, weights=distance ............................\n",
      "[CV] ............. n_neighbors=6, p=5, weights=distance, total=   0.0s\n",
      "[CV] n_neighbors=6, p=5, weights=distance ............................\n",
      "[CV] ............. n_neighbors=6, p=5, weights=distance, total=   0.0s\n",
      "[CV] n_neighbors=6, p=5, weights=distance ............................\n",
      "[CV] ............. n_neighbors=6, p=5, weights=distance, total=   0.0s\n",
      "[CV] n_neighbors=7, p=1, weights=distance ............................\n",
      "[CV] ............. n_neighbors=7, p=1, weights=distance, total=   0.0s\n",
      "[CV] n_neighbors=7, p=1, weights=distance ............................\n",
      "[CV] ............. n_neighbors=7, p=1, weights=distance, total=   0.0s\n",
      "[CV] n_neighbors=7, p=1, weights=distance ............................\n",
      "[CV] ............. n_neighbors=7, p=1, weights=distance, total=   0.0s\n",
      "[CV] n_neighbors=7, p=2, weights=distance ............................\n",
      "[CV] ............. n_neighbors=7, p=2, weights=distance, total=   0.0s\n",
      "[CV] n_neighbors=7, p=2, weights=distance ............................\n",
      "[CV] ............. n_neighbors=7, p=2, weights=distance, total=   0.0s\n",
      "[CV] n_neighbors=7, p=2, weights=distance ............................\n",
      "[CV] ............. n_neighbors=7, p=2, weights=distance, total=   0.0s\n",
      "[CV] n_neighbors=7, p=3, weights=distance ............................\n",
      "[CV] ............. n_neighbors=7, p=3, weights=distance, total=   0.0s\n",
      "[CV] n_neighbors=7, p=3, weights=distance ............................\n",
      "[CV] ............. n_neighbors=7, p=3, weights=distance, total=   0.0s\n",
      "[CV] n_neighbors=7, p=3, weights=distance ............................\n",
      "[CV] ............. n_neighbors=7, p=3, weights=distance, total=   0.0s\n",
      "[CV] n_neighbors=7, p=4, weights=distance ............................\n",
      "[CV] ............. n_neighbors=7, p=4, weights=distance, total=   0.0s\n",
      "[CV] n_neighbors=7, p=4, weights=distance ............................\n",
      "[CV] ............. n_neighbors=7, p=4, weights=distance, total=   0.0s\n",
      "[CV] n_neighbors=7, p=4, weights=distance ............................\n",
      "[CV] ............. n_neighbors=7, p=4, weights=distance, total=   0.0s\n",
      "[CV] n_neighbors=7, p=5, weights=distance ............................\n",
      "[CV] ............. n_neighbors=7, p=5, weights=distance, total=   0.0s\n",
      "[CV] n_neighbors=7, p=5, weights=distance ............................\n",
      "[CV] ............. n_neighbors=7, p=5, weights=distance, total=   0.0s\n",
      "[CV] n_neighbors=7, p=5, weights=distance ............................\n",
      "[CV] ............. n_neighbors=7, p=5, weights=distance, total=   0.0s\n",
      "[CV] n_neighbors=8, p=1, weights=distance ............................\n",
      "[CV] ............. n_neighbors=8, p=1, weights=distance, total=   0.0s\n",
      "[CV] n_neighbors=8, p=1, weights=distance ............................\n",
      "[CV] ............. n_neighbors=8, p=1, weights=distance, total=   0.0s\n",
      "[CV] n_neighbors=8, p=1, weights=distance ............................\n",
      "[CV] ............. n_neighbors=8, p=1, weights=distance, total=   0.0s\n",
      "[CV] n_neighbors=8, p=2, weights=distance ............................\n",
      "[CV] ............. n_neighbors=8, p=2, weights=distance, total=   0.0s\n",
      "[CV] n_neighbors=8, p=2, weights=distance ............................\n",
      "[CV] ............. n_neighbors=8, p=2, weights=distance, total=   0.0s\n",
      "[CV] n_neighbors=8, p=2, weights=distance ............................\n",
      "[CV] ............. n_neighbors=8, p=2, weights=distance, total=   0.0s\n",
      "[CV] n_neighbors=8, p=3, weights=distance ............................\n",
      "[CV] ............. n_neighbors=8, p=3, weights=distance, total=   0.0s\n",
      "[CV] n_neighbors=8, p=3, weights=distance ............................\n",
      "[CV] ............. n_neighbors=8, p=3, weights=distance, total=   0.0s\n",
      "[CV] n_neighbors=8, p=3, weights=distance ............................\n",
      "[CV] ............. n_neighbors=8, p=3, weights=distance, total=   0.0s\n",
      "[CV] n_neighbors=8, p=4, weights=distance ............................\n",
      "[CV] ............. n_neighbors=8, p=4, weights=distance, total=   0.0s\n",
      "[CV] n_neighbors=8, p=4, weights=distance ............................\n",
      "[CV] ............. n_neighbors=8, p=4, weights=distance, total=   0.0s\n",
      "[CV] n_neighbors=8, p=4, weights=distance ............................\n",
      "[CV] ............. n_neighbors=8, p=4, weights=distance, total=   0.0s\n",
      "[CV] n_neighbors=8, p=5, weights=distance ............................\n",
      "[CV] ............. n_neighbors=8, p=5, weights=distance, total=   0.0s\n",
      "[CV] n_neighbors=8, p=5, weights=distance ............................\n",
      "[CV] ............. n_neighbors=8, p=5, weights=distance, total=   0.0s\n",
      "[CV] n_neighbors=8, p=5, weights=distance ............................\n",
      "[CV] ............. n_neighbors=8, p=5, weights=distance, total=   0.0s\n",
      "[CV] n_neighbors=9, p=1, weights=distance ............................\n",
      "[CV] ............. n_neighbors=9, p=1, weights=distance, total=   0.0s\n",
      "[CV] n_neighbors=9, p=1, weights=distance ............................\n",
      "[CV] ............. n_neighbors=9, p=1, weights=distance, total=   0.0s\n",
      "[CV] n_neighbors=9, p=1, weights=distance ............................\n",
      "[CV] ............. n_neighbors=9, p=1, weights=distance, total=   0.0s\n",
      "[CV] n_neighbors=9, p=2, weights=distance ............................\n",
      "[CV] ............. n_neighbors=9, p=2, weights=distance, total=   0.0s\n",
      "[CV] n_neighbors=9, p=2, weights=distance ............................\n",
      "[CV] ............. n_neighbors=9, p=2, weights=distance, total=   0.0s\n",
      "[CV] n_neighbors=9, p=2, weights=distance ............................\n",
      "[CV] ............. n_neighbors=9, p=2, weights=distance, total=   0.0s\n",
      "[CV] n_neighbors=9, p=3, weights=distance ............................\n",
      "[CV] ............. n_neighbors=9, p=3, weights=distance, total=   0.0s\n",
      "[CV] n_neighbors=9, p=3, weights=distance ............................\n",
      "[CV] ............. n_neighbors=9, p=3, weights=distance, total=   0.0s\n",
      "[CV] n_neighbors=9, p=3, weights=distance ............................\n"
     ]
    },
    {
     "name": "stdout",
     "output_type": "stream",
     "text": [
      "[CV] ............. n_neighbors=9, p=3, weights=distance, total=   0.0s\n",
      "[CV] n_neighbors=9, p=4, weights=distance ............................\n",
      "[CV] ............. n_neighbors=9, p=4, weights=distance, total=   0.0s\n",
      "[CV] n_neighbors=9, p=4, weights=distance ............................\n",
      "[CV] ............. n_neighbors=9, p=4, weights=distance, total=   0.0s\n",
      "[CV] n_neighbors=9, p=4, weights=distance ............................\n",
      "[CV] ............. n_neighbors=9, p=4, weights=distance, total=   0.0s\n",
      "[CV] n_neighbors=9, p=5, weights=distance ............................\n",
      "[CV] ............. n_neighbors=9, p=5, weights=distance, total=   0.0s\n",
      "[CV] n_neighbors=9, p=5, weights=distance ............................\n",
      "[CV] ............. n_neighbors=9, p=5, weights=distance, total=   0.0s\n",
      "[CV] n_neighbors=9, p=5, weights=distance ............................\n",
      "[CV] ............. n_neighbors=9, p=5, weights=distance, total=   0.0s\n",
      "[CV] n_neighbors=10, p=1, weights=distance ...........................\n",
      "[CV] ............ n_neighbors=10, p=1, weights=distance, total=   0.0s\n",
      "[CV] n_neighbors=10, p=1, weights=distance ...........................\n",
      "[CV] ............ n_neighbors=10, p=1, weights=distance, total=   0.0s\n",
      "[CV] n_neighbors=10, p=1, weights=distance ...........................\n",
      "[CV] ............ n_neighbors=10, p=1, weights=distance, total=   0.0s\n",
      "[CV] n_neighbors=10, p=2, weights=distance ...........................\n",
      "[CV] ............ n_neighbors=10, p=2, weights=distance, total=   0.0s\n",
      "[CV] n_neighbors=10, p=2, weights=distance ...........................\n",
      "[CV] ............ n_neighbors=10, p=2, weights=distance, total=   0.0s\n",
      "[CV] n_neighbors=10, p=2, weights=distance ...........................\n",
      "[CV] ............ n_neighbors=10, p=2, weights=distance, total=   0.0s\n",
      "[CV] n_neighbors=10, p=3, weights=distance ...........................\n",
      "[CV] ............ n_neighbors=10, p=3, weights=distance, total=   0.0s\n",
      "[CV] n_neighbors=10, p=3, weights=distance ...........................\n",
      "[CV] ............ n_neighbors=10, p=3, weights=distance, total=   0.0s\n",
      "[CV] n_neighbors=10, p=3, weights=distance ...........................\n",
      "[CV] ............ n_neighbors=10, p=3, weights=distance, total=   0.0s\n",
      "[CV] n_neighbors=10, p=4, weights=distance ...........................\n",
      "[CV] ............ n_neighbors=10, p=4, weights=distance, total=   0.0s\n",
      "[CV] n_neighbors=10, p=4, weights=distance ...........................\n",
      "[CV] ............ n_neighbors=10, p=4, weights=distance, total=   0.0s\n",
      "[CV] n_neighbors=10, p=4, weights=distance ...........................\n",
      "[CV] ............ n_neighbors=10, p=4, weights=distance, total=   0.0s\n",
      "[CV] n_neighbors=10, p=5, weights=distance ...........................\n",
      "[CV] ............ n_neighbors=10, p=5, weights=distance, total=   0.0s\n",
      "[CV] n_neighbors=10, p=5, weights=distance ...........................\n",
      "[CV] ............ n_neighbors=10, p=5, weights=distance, total=   0.0s\n",
      "[CV] n_neighbors=10, p=5, weights=distance ...........................\n",
      "[CV] ............ n_neighbors=10, p=5, weights=distance, total=   0.0s\n"
     ]
    },
    {
     "name": "stderr",
     "output_type": "stream",
     "text": [
      "[Parallel(n_jobs=1)]: Done 180 out of 180 | elapsed:    3.1s finished\n"
     ]
    },
    {
     "data": {
      "text/plain": [
       "GridSearchCV(cv=None, error_score='raise',\n",
       "       estimator=KNeighborsRegressor(algorithm='auto', leaf_size=30, metric='minkowski',\n",
       "          metric_params=None, n_jobs=1, n_neighbors=5, p=2,\n",
       "          weights='uniform'),\n",
       "       fit_params=None, iid=True, n_jobs=1,\n",
       "       param_grid=[{'n_neighbors': [1, 2, 3, 4, 5, 6, 7, 8, 9, 10], 'weights': ['uniform']}, {'n_neighbors': [1, 2, 3, 4, 5, 6, 7, 8, 9, 10], 'weights': ['distance'], 'p': [1, 2, 3, 4, 5]}],\n",
       "       pre_dispatch='2*n_jobs', refit=True, return_train_score='warn',\n",
       "       scoring=None, verbose=2)"
      ]
     },
     "execution_count": 73,
     "metadata": {},
     "output_type": "execute_result"
    }
   ],
   "source": [
    "grid_search.fit(sS_X_train,y_train)"
   ]
  },
  {
   "cell_type": "code",
   "execution_count": 74,
   "metadata": {},
   "outputs": [
    {
     "data": {
      "text/plain": [
       "{'n_neighbors': 5, 'p': 1, 'weights': 'distance'}"
      ]
     },
     "execution_count": 74,
     "metadata": {},
     "output_type": "execute_result"
    }
   ],
   "source": [
    "grid_search.best_params_"
   ]
  },
  {
   "cell_type": "markdown",
   "metadata": {},
   "source": [
    "### 分类器使用了网格搜索后的最佳参数并进行了数据归一化处理"
   ]
  },
  {
   "cell_type": "code",
   "execution_count": 77,
   "metadata": {},
   "outputs": [
    {
     "data": {
      "text/plain": [
       "0.88099665099417701"
      ]
     },
     "execution_count": 77,
     "metadata": {},
     "output_type": "execute_result"
    }
   ],
   "source": [
    "grid_search.best_estimator_.score(sS_X_test,y_test)"
   ]
  },
  {
   "cell_type": "markdown",
   "metadata": {},
   "source": [
    "### 经过对比 KNN 即使选择了最优的参数后 回归的效果依旧一般\n",
    "不过gridsearch ~~计算score的方法和我们的不一样！！！！ 这点我们需要注意\n",
    "不同的评价标准不好比较啊~~\n",
    "### 但是我想到了 数据归一化对KNN的影响是很大的！！！\n",
    "所以归一化了数据 模型的score得到了 非常大的提升 ？ ~~但是标标准不一样 依旧不好比较~~\n",
    "### 经过我的探索与创造  我发现他们的Score计算方法居然是一样的！\n"
   ]
  }
 ],
 "metadata": {
  "kernelspec": {
   "display_name": "Python 3",
   "language": "python",
   "name": "python3"
  },
  "language_info": {
   "codemirror_mode": {
    "name": "ipython",
    "version": 3
   },
   "file_extension": ".py",
   "mimetype": "text/x-python",
   "name": "python",
   "nbconvert_exporter": "python",
   "pygments_lexer": "ipython3",
   "version": "3.6.3"
  }
 },
 "nbformat": 4,
 "nbformat_minor": 2
}
