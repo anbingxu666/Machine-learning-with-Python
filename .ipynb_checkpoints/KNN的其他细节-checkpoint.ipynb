{
 "cells": [
  {
   "cell_type": "markdown",
   "metadata": {},
   "source": [
    "### 超参数：在算法运行前决定的参数\n",
    "### 模型参数：算法过程中学习的参数\n"
   ]
  },
  {
   "cell_type": "markdown",
   "metadata": {},
   "source": [
    "- 权重w？\n",
    "    - 距离越小应该权重越大\n",
    "    - 1/距离 可以实现此功能 but不是很好 因为距离越大缩减的越快 所以使用Gaussian函数 "
   ]
  },
  {
   "cell_type": "markdown",
   "metadata": {},
   "source": [
    "- 距离p?\n",
    "    - 欧拉距离（差的平方和）\n",
    "    - 曼哈顿距离（差的绝对值的和）\n",
    "    - 明科夫斯基距离（$$(\\sum\\ (x-x)^p)^(1/p)$$）\n",
    "     "
   ]
  },
  {
   "cell_type": "markdown",
   "metadata": {},
   "source": [
    "- K?"
   ]
  },
  {
   "cell_type": "markdown",
   "metadata": {},
   "source": [
    "### 寻找最好的超参数方法\n",
    "- 多层for循环\n",
    "- 网格搜索"
   ]
  },
  {
   "cell_type": "markdown",
   "metadata": {},
   "source": [
    "### 样本均值归一化\n",
    "#### 1.最值归一化　　０－１映射　　（ｘ－ｘｍｉｎ）／（ｘｍａｘ－ｘｍｉｎ）　缺点 受outline边界值或没有明显边界时影响较大\n",
    "#### 2.均值方差归一化  将所有数据归一到均值0方差1的标准正态分本中 (x-xmean)/s\n",
    "#### 3.均值方差归一化  **测试集** 的时候，均值和方差使用训练集的均值和方差（真是世界中的均值和方差是不可预料到的）"
   ]
  },
  {
   "cell_type": "code",
   "execution_count": null,
   "metadata": {},
   "outputs": [],
   "source": []
  }
 ],
 "metadata": {
  "kernelspec": {
   "display_name": "Python 3",
   "language": "python",
   "name": "python3"
  },
  "language_info": {
   "codemirror_mode": {
    "name": "ipython",
    "version": 3
   },
   "file_extension": ".py",
   "mimetype": "text/x-python",
   "name": "python",
   "nbconvert_exporter": "python",
   "pygments_lexer": "ipython3",
   "version": "3.6.3"
  }
 },
 "nbformat": 4,
 "nbformat_minor": 2
}
