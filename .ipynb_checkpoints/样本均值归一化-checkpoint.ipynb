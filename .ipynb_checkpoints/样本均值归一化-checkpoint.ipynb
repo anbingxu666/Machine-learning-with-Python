{
 "cells": [
  {
   "cell_type": "markdown",
   "metadata": {},
   "source": [
    "### 样本均值归一化\n",
    "#### 1.最值归一化　　０－１映射　　（ｘ－ｘｍｉｎ）／（ｘｍａｘ－ｘｍｉｎ）　缺点 受outline边界值或没有明显边界时影响较大\n",
    "#### 2.均值方差归一化  将所有数据归一到均值0方差1的标准正态分本中 (x-xmean)/s"
   ]
  },
  {
   "cell_type": "markdown",
   "metadata": {},
   "source": [
    "## 随机生成一个矩阵"
   ]
  },
  {
   "cell_type": "code",
   "execution_count": 6,
   "metadata": {},
   "outputs": [
    {
     "data": {
      "text/plain": [
       "array([[  24.,  198.],\n",
       "       [ 120.,  137.],\n",
       "       [  99.,  124.],\n",
       "       [ 175.,  122.],\n",
       "       [  32.,  140.],\n",
       "       [  37.,  157.],\n",
       "       [ 163.,   77.],\n",
       "       [ 116.,  140.],\n",
       "       [  97.,  107.],\n",
       "       [ 198.,  192.],\n",
       "       [ 175.,   66.],\n",
       "       [   0.,   53.],\n",
       "       [ 174.,   59.],\n",
       "       [  44.,   78.],\n",
       "       [  67.,  184.],\n",
       "       [ 179.,   30.],\n",
       "       [  17.,  154.],\n",
       "       [  19.,  156.],\n",
       "       [  21.,   10.],\n",
       "       [ 174.,   74.]])"
      ]
     },
     "execution_count": 6,
     "metadata": {},
     "output_type": "execute_result"
    }
   ],
   "source": [
    "import numpy as np\n",
    "X = np.random.randint(0,201,size=(20,2))\n",
    "X = np.array(X,dtype=float) #强制类型转换\n",
    "X"
   ]
  },
  {
   "cell_type": "markdown",
   "metadata": {},
   "source": [
    "## 1 最值归一化"
   ]
  },
  {
   "cell_type": "code",
   "execution_count": 10,
   "metadata": {},
   "outputs": [],
   "source": [
    "normalization_1 = np.zeros(shape=X.shape)\n",
    "normalization_1[:,0] = ((X[:,0] - np.min(X[:,0]))/(np.max(X[:,0])-np.min(X[:,0])))\n",
    "normalization_1[:,1] = ((X[:,1] - np.min(X[:,1]))/(np.max(X[:,1])-np.min(X[:,1])))"
   ]
  },
  {
   "cell_type": "code",
   "execution_count": 12,
   "metadata": {},
   "outputs": [
    {
     "data": {
      "text/plain": [
       "array([[ 0.12121212,  1.        ],\n",
       "       [ 0.60606061,  0.67553191],\n",
       "       [ 0.5       ,  0.60638298],\n",
       "       [ 0.88383838,  0.59574468],\n",
       "       [ 0.16161616,  0.69148936],\n",
       "       [ 0.18686869,  0.78191489],\n",
       "       [ 0.82323232,  0.35638298],\n",
       "       [ 0.58585859,  0.69148936],\n",
       "       [ 0.48989899,  0.51595745],\n",
       "       [ 1.        ,  0.96808511],\n",
       "       [ 0.88383838,  0.29787234],\n",
       "       [ 0.        ,  0.2287234 ],\n",
       "       [ 0.87878788,  0.2606383 ],\n",
       "       [ 0.22222222,  0.36170213],\n",
       "       [ 0.33838384,  0.92553191],\n",
       "       [ 0.9040404 ,  0.10638298],\n",
       "       [ 0.08585859,  0.76595745],\n",
       "       [ 0.0959596 ,  0.77659574],\n",
       "       [ 0.10606061,  0.        ],\n",
       "       [ 0.87878788,  0.34042553]])"
      ]
     },
     "execution_count": 12,
     "metadata": {},
     "output_type": "execute_result"
    }
   ],
   "source": [
    "normalization_1"
   ]
  },
  {
   "cell_type": "code",
   "execution_count": 13,
   "metadata": {},
   "outputs": [],
   "source": [
    "import  matplotlib.pyplot as plt"
   ]
  },
  {
   "cell_type": "code",
   "execution_count": 15,
   "metadata": {},
   "outputs": [
    {
     "data": {
      "image/png": "[encoded data removed]",
      "text/plain": [
       "<Figure size 432x288 with 1 Axes>"
      ]
     },
     "metadata": {},
     "output_type": "display_data"
    }
   ],
   "source": [
    "plt.scatter(normalization_1[:,0],normalization_1[:,1])\n",
    "plt.show()"
   ]
  },
  {
   "cell_type": "markdown",
   "metadata": {},
   "source": [
    "## 2 均值方差归一化"
   ]
  },
  {
   "cell_type": "code",
   "execution_count": 17,
   "metadata": {},
   "outputs": [],
   "source": [
    "normalization_2 = np.zeros(shape=X.shape)\n",
    "normalization_2[:,0] = ((X[:,0] - np.mean(X[:,0]))/np.std(X[:,0]))\n",
    "normalization_2[:,1] = ((X[:,1] - np.mean(X[:,1]))/np.std(X[:,1]))"
   ]
  },
  {
   "cell_type": "code",
   "execution_count": 18,
   "metadata": {},
   "outputs": [
    {
     "data": {
      "image/png": "[encoded data removed]",
      "text/plain": [
       "<Figure size 432x288 with 1 Axes>"
      ]
     },
     "metadata": {},
     "output_type": "display_data"
    }
   ],
   "source": [
    "plt.scatter(normalization_2[:,0],normalization_2[:,1])\n",
    "plt.show()"
   ]
  },
  {
   "cell_type": "code",
   "execution_count": 20,
   "metadata": {},
   "outputs": [
    {
     "data": {
      "text/plain": [
       "1.0"
      ]
     },
     "execution_count": 20,
     "metadata": {},
     "output_type": "execute_result"
    }
   ],
   "source": [
    "np.std(normalization_2[:,0])"
   ]
  },
  {
   "cell_type": "code",
   "execution_count": 21,
   "metadata": {},
   "outputs": [
    {
     "data": {
      "text/plain": [
       "4.4408920985006264e-17"
      ]
     },
     "execution_count": 21,
     "metadata": {},
     "output_type": "execute_result"
    }
   ],
   "source": [
    "np.mean(normalization_2[:,0])"
   ]
  },
  {
   "cell_type": "markdown",
   "metadata": {},
   "source": [
    "均值接近0 方差接近1"
   ]
  },
  {
   "cell_type": "code",
   "execution_count": null,
   "metadata": {},
   "outputs": [],
   "source": []
  }
 ],
 "metadata": {
  "kernelspec": {
   "display_name": "Python 3",
   "language": "python",
   "name": "python3"
  },
  "language_info": {
   "codemirror_mode": {
    "name": "ipython",
    "version": 3
   },
   "file_extension": ".py",
   "mimetype": "text/x-python",
   "name": "python",
   "nbconvert_exporter": "python",
   "pygments_lexer": "ipython3",
   "version": "3.6.3"
  }
 },
 "nbformat": 4,
 "nbformat_minor": 2
}
