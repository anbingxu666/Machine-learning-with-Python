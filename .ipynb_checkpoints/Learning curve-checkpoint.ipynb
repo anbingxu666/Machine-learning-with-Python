{
 "cells": [
  {
   "cell_type": "code",
   "execution_count": 1,
   "metadata": {},
   "outputs": [],
   "source": [
    "from sklearn.model_selection import train_test_split\n",
    "from sklearn.linear_model import LinearRegression\n",
    "from sklearn.metrics import mean_squared_error\n",
    "from sklearn.preprocessing import PolynomialFeatures\n",
    "from sklearn.preprocessing import StandardScaler\n",
    "from sklearn.pipeline import Pipeline"
   ]
  },
  {
   "cell_type": "code",
   "execution_count": 2,
   "metadata": {},
   "outputs": [],
   "source": [
    "import numpy as np\n",
    "import matplotlib.pyplot as plt"
   ]
  },
  {
   "cell_type": "code",
   "execution_count": 3,
   "metadata": {},
   "outputs": [],
   "source": [
    "def polynomialRegression(degree):\n",
    "    \"\"\"将通过管道后的模型封装成一个函数  返回线性回归模型\"\"\"\n",
    "    \n",
    "    #使用管道\n",
    "    return Pipeline([\n",
    "        (\"poly_feat\",PolynomialFeatures(degree=degree)),\n",
    "        (\"standard_scaler\",StandardScaler()),\n",
    "        (\"lin_reg\",LinearRegression())\n",
    "    ])"
   ]
  },
  {
   "cell_type": "markdown",
   "metadata": {},
   "source": [
    "### 加载数据集"
   ]
  },
  {
   "cell_type": "code",
   "execution_count": 4,
   "metadata": {},
   "outputs": [],
   "source": [
    "x = np.random.uniform(-3,3,size=100)\n",
    "\n",
    "X = x.reshape(-1,1)\n",
    "\n",
    "y = 0.5 * x*x + x + 2 + np.random.normal(0,1,size=100)  "
   ]
  },
  {
   "cell_type": "code",
   "execution_count": 5,
   "metadata": {},
   "outputs": [
    {
     "data": {
      "image/png": "[encoded data removed]",
      "text/plain": [
       "<Figure size 432x288 with 1 Axes>"
      ]
     },
     "metadata": {},
     "output_type": "display_data"
    }
   ],
   "source": [
    "plt.scatter(X,y)\n",
    "plt.show()"
   ]
  },
  {
   "cell_type": "markdown",
   "metadata": {},
   "source": [
    "### 分割数据集"
   ]
  },
  {
   "cell_type": "code",
   "execution_count": 8,
   "metadata": {},
   "outputs": [],
   "source": [
    "X_train,X_test,y_train,y_test = train_test_split(X,y,test_size=0.2,random_state=666)"
   ]
  },
  {
   "cell_type": "markdown",
   "metadata": {},
   "source": [
    "### 线性回归（模型是underfitting的）"
   ]
  },
  {
   "cell_type": "code",
   "execution_count": 9,
   "metadata": {},
   "outputs": [],
   "source": [
    "test_score = []\n",
    "train_score = []\n",
    "for i in range(1,len(X_train)):\n",
    "    lr = LinearRegression()\n",
    "    lr.fit(X_train[:i],y_train[:i])\n",
    "    y_p = lr.predict(X_test)\n",
    "    test_score.append(mean_squared_error(y_test,y_p))\n",
    "    y_p_train = lr.predict(X_train[:i])\n",
    "    train_score.append(mean_squared_error(y_train[:i],y_p_train))\n"
   ]
  },
  {
   "cell_type": "code",
   "execution_count": 19,
   "metadata": {},
   "outputs": [
    {
     "data": {
      "image/png": "[encoded data removed]",
      "text/plain": [
       "<Figure size 432x288 with 1 Axes>"
      ]
     },
     "metadata": {},
     "output_type": "display_data"
    }
   ],
   "source": [
    "plt.plot([ i for i in range(1,len(X_train))],test_score,label=\"test_score\")\n",
    "plt.plot([ i for i in range(1,len(X_train))],train_score,label=\"train_score\")\n",
    "plt.axis([0,len(X_train)+1,0,10])\n",
    "plt.legend()\n",
    "plt.show()"
   ]
  },
  {
   "cell_type": "code",
   "execution_count": 17,
   "metadata": {},
   "outputs": [
    {
     "data": {
      "text/plain": [
       "79"
      ]
     },
     "execution_count": 17,
     "metadata": {},
     "output_type": "execute_result"
    }
   ],
   "source": []
  },
  {
   "cell_type": "markdown",
   "metadata": {},
   "source": [
    "### 将上述画图过程封装成一个函数"
   ]
  },
  {
   "cell_type": "code",
   "execution_count": null,
   "metadata": {},
   "outputs": [],
   "source": [
    "def plot_learning_curve(model,X_train,X_test,y_train,y_test):\n",
    "    test_score = []\n",
    "    train_score = []\n",
    "    for i in range(1,len(X_train)):\n",
    "        lr = model\n",
    "        lr.fit(X_train[:i],y_train[:i])\n",
    "        y_p = lr.predict(X_test)\n",
    "        test_score.append(mean_squared_error(y_test,y_p))\n",
    "        y_p_train = lr.predict(X_train[:i])\n",
    "        train_score.append(mean_squared_error(y_train[:i],y_p_train))\n",
    "        \n",
    "    plt.plot([ i for i in range(1,len(X_train))],test_score,label=\"test_score\")\n",
    "    plt.plot([ i for i in range(1,len(X_train))],train_score,label=\"train_score\")\n",
    "    plt.axis([0,len(X_train)+1,0,10])\n",
    "    plt.legend()\n",
    "    plt.show()"
   ]
  }
 ],
 "metadata": {
  "kernelspec": {
   "display_name": "Python 3",
   "language": "python",
   "name": "python3"
  },
  "language_info": {
   "codemirror_mode": {
    "name": "ipython",
    "version": 3
   },
   "file_extension": ".py",
   "mimetype": "text/x-python",
   "name": "python",
   "nbconvert_exporter": "python",
   "pygments_lexer": "ipython3",
   "version": "3.6.3"
  }
 },
 "nbformat": 4,
 "nbformat_minor": 2
}
